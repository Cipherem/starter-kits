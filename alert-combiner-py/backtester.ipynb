{
 "cells": [
  {
   "cell_type": "code",
   "execution_count": 1,
   "metadata": {},
   "outputs": [
    {
     "data": {
      "text/plain": [
       "True"
      ]
     },
     "execution_count": 1,
     "metadata": {},
     "output_type": "execute_result"
    }
   ],
   "source": [
    "# Copyright 2022 The Forta Foundation\n",
    " \n",
    "import requests\n",
    "import pandas as pd\n",
    "import json\n",
    "import dotenv\n",
    "import os\n",
    "\n",
    "# Load environment variables\n",
    "dotenv.load_dotenv()"
   ]
  },
  {
   "cell_type": "code",
   "execution_count": 2,
   "metadata": {},
   "outputs": [],
   "source": [
    "def execute_query(sql: str) -> pd.DataFrame:\n",
    "        url = \"https://q.luabase.com/run\"\n",
    "        payload = {\"block\":\n",
    "                   {\"details\": {\n",
    "                    \"sql\": sql,\n",
    "                    }\n",
    "                    },\n",
    "                   \"api_key\": os.environ.get('LUABASE_API_KEY')\n",
    "                   }\n",
    "\n",
    "        headers = {\"content-type\": \"application/json\"}\n",
    "        response = requests.request(\"POST\", url, json=payload, headers=headers, timeout=600)  # 10min timeout\n",
    "        \n",
    "        data = response.json()\n",
    "        \n",
    "        print(data)\n",
    "        return pd.DataFrame(data[\"data\"])"
   ]
  },
  {
   "attachments": {},
   "cell_type": "markdown",
   "metadata": {},
   "source": [
    "This notebook allows to backtest the attack detector V2 against a set of alerts. Independent of the threshold set within the bot, the log will be analyzed, so the relevant alerts, their anomaly score, overall anomaly score, and any FP filtering mitigations are shown.\n",
    "\n",
    "Since there is a command line character limit, the local persistence mechanism needs to be enabled to persist state across executions (by setting local node property in constants.py to 1)"
   ]
  },
  {
   "cell_type": "code",
   "execution_count": 3,
   "metadata": {},
   "outputs": [],
   "source": [
    "start_date = \"2022-12-31\" #when the attack detector first started to operate\n",
    "\n",
    "\n",
    "\n",
    "attacker_addresses = \"0x14d8Ada7A0BA91f59Dc0Cb97C8F44F1d177c2195\".lower()\n",
    "chain = \"ethereum\" #ethereum or binance \n",
    "name = \"TomInu\"\n",
    "end_date = \"2023-01-26\" #should be the date of the attack\n",
    "\n",
    "\n",
    "# attacker_addresses = \"0x14d8Ada7A0BA91f59Dc0Cb97C8F44F1d177c2195\".lower()\n",
    "# chain = \"ethereum\" #ethereum or binance \n",
    "# name = \"TomInu\"\n",
    "# end_date = \"2023-01-26\" #should be the date of the attack\n",
    "\n",
    "\n",
    "# attacker_addresses = \"0x69f0EdC352eCffC4EF49516c9b20eA88B3E947cb\".lower()\n",
    "# chain = \"ethereum\" #ethereum or binance \n",
    "# name = \"BlueCluesInu\"\n",
    "# end_date = \"2023-01-26\" #should be the date of the attack\n",
    "\n",
    "# attacker_addresses = \"0x88a2386e7ec97ad1e7a72176a66b6d0711ae3527\".lower()\n",
    "# chain = \"ethereum\" #ethereum or binance \n",
    "# name = \"Quaternion\"\n",
    "# end_date = \"2023-01-20\" #should be the date of the attack\n",
    "\n",
    "\n",
    "# attacker_addresses = \"0xf3a465c9fa6663ff50794c698f600faa4b05c777,0x2ffc59d32a524611bb891cab759112a51f9e33c0\" #comma separated list of attacker addresses (note, while all alerts from those addresses are pushed to the attack detector, one should check the clustering bot to see whether they are clustered together)\n",
    "# chain = \"ethereum\" #ethereum or binance \n",
    "# name = \"ANKR\"\n",
    "# end_date = \"2022-12-04\" #should be the date of the attack\n",
    "\n",
    "# start_date = \"2023-01-10\" #when the attack detector first started to operate\n",
    "# attacker_addresses = \"0x9d0163e76bbcf776001e639d65f573949a53ab03\"\n",
    "# chain = \"ethereum\" #ethereum or binance \n",
    "# name = \"LendHub\"\n",
    "# end_date = \"2023-01-14\" #should be the date of the attack\n",
    "\n",
    "# attacker_addresses = \"0x0348d20b74ddc0ac9bfc3626e06d30bb6fac213b\"\n",
    "# chain = \"ethereum\" #ethereum or binance \n",
    "# name = \"JayExploiter\"\n",
    "# end_date = \"2022-12-31\" #should be the date of the attack\n",
    "\n",
    "# attacker_addresses = \"0x001B91c794dFEecf00124D3F9525DD32870B6ee9\" #comma separated list of attacker addresses (note, while all alerts from those addresses are pushed to the attack detector, one should check the clustering bot to see whether they are clustered together)\n",
    "# chain = \"ethereum\" #ethereum or binance \n",
    "# name = \"CryptoRubric\"\n",
    "# end_date = \"2022-12-28\" #should be the date of the attack\n",
    "\n",
    "# attacker_addresses = \"0x3bdF01ed32F07e8e843163b5d478d4502F5743CD,0x25fDe76A52D01c83E31d2d3D5e1d2011ff103c56,0xBeAdeDBABED6A353c9cAa4894Aa7E5F883e32967\" #comma separated list of attacker addresses (note, while all alerts from those addresses are pushed to the attack detector, one should check the clustering bot to see whether they are clustered together)\n",
    "# chain = \"ethereum\" #ethereum or binance \n",
    "# name = \"ElasticSwap\"\n",
    "# start_date = \"2022-11-30\" #when the attack detector first started to operate\n",
    "# end_date = \"2022-12-15\" #should be the date of the attack\n",
    "\n",
    "# attacker_addresses = \"0x86Aa1c46f2Ae35ba1B228dC69fB726813D95b597,0x3c4e5b099f3c02122079d124138377e1b9048629\" #comma separated list of attacker addresses (note, while all alerts from those addresses are pushed to the attack detector, one should check the clustering bot to see whether they are clustered together)\n",
    "# chain = \"binance\" #ethereum or binance \n",
    "# name = \"Nimbus\"\n",
    "# end_date = \"2022-12-15\" #should be the date of the attack\n",
    "\n",
    "# attacker_addresses = \"0xF4FD2EbE7196c8E99E88bcc4Aef69dda0e493B8F\" #comma separated list of attacker addresses (note, while all alerts from those addresses are pushed to the attack detector, one should check the clustering bot to see whether they are clustered together)\n",
    "# chain = \"binance\" #ethereum or binance \n",
    "# name = \"BlackGold\"\n",
    "# end_date = \"2022-12-15\" #should be the date of the attack\n",
    "\n",
    "# attacker_addresses = \"0x286E09932B8D096cbA3423d12965042736b8F850\" #comma separated list of attacker addresses (note, while all alerts from those addresses are pushed to the attack detector, one should check the clustering bot to see whether they are clustered together)\n",
    "# chain = \"binance\" #ethereum or binance \n",
    "# name = \"aespool\"\n",
    "# end_date = \"2022-12-17\" #should be the date of the attack\n",
    "\n",
    "# attacker_addresses = \"0xf71708C59be7e32B9FF2aa174F07311869C6bf0c\" #comma separated list of attacker addresses (note, while all alerts from those addresses are pushed to the attack detector, one should check the clustering bot to see whether they are clustered together)\n",
    "# chain = \"binance\" #ethereum or binance \n",
    "# name = \"optionroom\"\n",
    "# end_date = \"2022-12-17\" #should be the date of the attack\n",
    "\n",
    "\n"
   ]
  },
  {
   "cell_type": "code",
   "execution_count": 4,
   "metadata": {},
   "outputs": [],
   "source": [
    "chain = \"ethereum\"\n",
    "attacks = [#(\"0x14d8Ada7A0BA91f59Dc0Cb97C8F44F1d177c2195\",\"ethereum\",\"tominu\",\"2023-01-18\",\"2023-01-27\"),\n",
    "           (\"0x69f0EdC352eCffC4EF49516c9b20eA88B3E947cb,0xceed34f03a3e607cc04c2d0441c7386b190d7cf4\",\"ethereum\",\"blueclues\",\"2023-01-19\",\"2023-01-26\"),\n",
    "           #(\"0x88a2386e7ec97ad1e7a72176a66b6d0711ae3527\",\"ethereum\",\"quaternion\",\"2023-01-17\",\"2023-01-19\"),\n",
    "           #(\"0x8a2d94ea342cbdd6d57db614b24f20cae286cac6,0x22898dc59145eae79471dd1f06b7e542e0982d30\",\"ethereum\",\"Upswing\",\"2022-12-21\",\"2023-01-20\"),\n",
    "           #(\"0x15d87DC2Eb27fdA26451f8FB04C576639104344d\",\"ethereum\",\"roefinance\",\"2023-01-10\",\"2023-01-18\"),\n",
    "           #(\"0x9D0163e76BbCf776001E639d65F573949a53AB03\",\"ethereum\",\"lendhub\",\"2023-01-10\",\"2023-01-16\"),\n",
    "           (\"0xc578d755cd56255d3ff6e92e1b6371ba945e3984\",\"binance\",\"ufdaoattack\",\"2023-01-01\",\"2023-02-06\")\n",
    "           ]\n",
    "\n",
    "# chain = \"binance\"\n",
    "# attacks = [#(\"0x66be80c796cba0844dace3e291632bfd397bd7a0\",\"binance\",\"phyproxy\",\"2023-01-01\",\"2023-01-24\"),\n",
    "#            #(\"0x1ae2dc57399b2f4597366c5bf4fe39859c006f99\",\"binance\",\"thoreum\",\"2023-01-14\",\"2023-01-20\"),\n",
    "#            #(\"0x9BbD94506398a1459F0Cd3B2638512627390255e,0xda5919bf3a49ad47b7c7103a9ed3902cee78d528\",\"binance\",\"omniprotocol\",\"2023-01-07\",\"2023-01-18\"),\n",
    "#            (\"0xc578d755cd56255d3ff6e92e1b6371ba945e3984\",\"binance\",\"ufdaoattack\",\"2023-01-01\",\"2023-02-06\"),\n",
    "#            (\"0x67a909f2953fb1138beA4B60894B51291D2d0795,0xE2Ba15be8C6Fb0d7C1F7bEA9106eb8232248FB8B\",\"binance\",\"bratoken\",\"2022-12-08\",\"2023-01-16\"),\n",
    "#            #(\"0xcf2362b46669e04b16d0780cf9b6e61c82de36a7\",\"binance\",\"GDS\",\"2023-01-01\",\"2023-01-05\")\n",
    "#             ]"
   ]
  },
  {
   "cell_type": "code",
   "execution_count": 5,
   "metadata": {},
   "outputs": [],
   "source": [
    "# #clustering\n",
    "# for attacker_address in attacker_addresses.split(\",\"):\n",
    "#     sql = f\"SELECT metadata FROM forta.{chain}_alerts WHERE bot_id = '0xd3061db4662d5b3406b52b20f34234e462d2c275b99414d76dc644e2486be3e9' and CAST(substring(block_timestamp,1,19) as datetime)  >= '2022-10-01T00:00:00' AND CAST(substring(block_timestamp,1,19)  as datetime)  <= '{end_date}T00:00:00' and  lower(arrayStringConcat(metadata)) like '%{attacker_address.lower()}%'\"\n",
    "#     print(sql)\n",
    "#     df = execute_query(sql)\n",
    "#     print(df)"
   ]
  },
  {
   "cell_type": "code",
   "execution_count": 6,
   "metadata": {},
   "outputs": [],
   "source": [
    "def get_alert_hashes(attacker_addresses: str, start_date: str, end_date: str) -> pd.DataFrame:\n",
    "\n",
    "    alert_hashes_df = pd.DataFrame(columns=[\"hash\",\"createdAt\"])\n",
    "    for attacker_address in attacker_addresses.split(\",\"):\n",
    "        url = 'https://api.forta.network/graphql'\n",
    "        query = '''query exampleQuery {\n",
    "            # first 5 alerts\n",
    "            alerts(\n",
    "                input: { first: 2000 , addresses: [\"'''+attacker_address+'''\"],\n",
    "                blockDateRange: { startDate: \"'''+start_date+'''\", endDate: \"'''+end_date+'''\" }\n",
    "                }\n",
    "            ) {\n",
    "                pageInfo {\n",
    "                hasNextPage\n",
    "                endCursor {\n",
    "                    alertId\n",
    "                    blockNumber\n",
    "                }\n",
    "                }\n",
    "                alerts {\n",
    "                hash\n",
    "                createdAt\n",
    "                \n",
    "                }\n",
    "            }\n",
    "            }\n",
    "        '''\n",
    "        r = requests.post(url, json={'query': query})\n",
    "        #print(r.text)\n",
    "        json_data = json.loads(r.text)\n",
    "        df = pd.DataFrame(json_data['data']['alerts']['alerts'])\n",
    "        #print(df)\n",
    "        alert_hashes_df = pd.concat([alert_hashes_df, df])\n",
    "\n",
    "    print(len(alert_hashes_df))\n",
    "    return alert_hashes_df\n"
   ]
  },
  {
   "cell_type": "code",
   "execution_count": 7,
   "metadata": {},
   "outputs": [
    {
     "name": "stdout",
     "output_type": "stream",
     "text": [
      "1556\n"
     ]
    }
   ],
   "source": [
    "\n",
    "for attacker_addresses, chain, name, start_date, end_date in attacks:\n",
    "\n",
    "    alert_hashes_df = get_alert_hashes(attacker_addresses.lower(), start_date, end_date)\n",
    "\n",
    "    !echo 'output.txt' > {name}.txt\n",
    "\n",
    "    #run npm run to get and route to output.txt\n",
    "    count = 0\n",
    "    alert_hashes = \"\"\n",
    "    for alert_hash in alert_hashes_df[\"hash\"]:\n",
    "        !npm run alert {alert_hash} >> {name}.txt 2>> {name}_{chain}.txt\n",
    "\n",
    "\n",
    "    !grep 'ERROR'  {name}_{chain}.txt >  {name}_{chain}_results.txt\n",
    "    !grep 'WARN'  {name}_{chain}.txt >>  {name}_{chain}_results.txt\n",
    "    !grep 'adding cluster mapping'  {name}_{chain}.txt >>  {name}_{chain}_results.txt\n",
    "    !grep 'adding FP mitigation cluster'  {name}_{chain}.txt >>  {name}_{chain}_results.txt\n",
    "    !grep 'anomaly'  {name}_{chain}.txt >>  {name}_{chain}_results.txt\n",
    "    \n",
    "\n"
   ]
  },
  {
   "cell_type": "code",
   "execution_count": null,
   "metadata": {},
   "outputs": [
    {
     "name": "stdout",
     "output_type": "stream",
     "text": [
      "ERROR: Error: no alert found with hash 0xa8941ce002f802d34ff9353e7a32f4225507b8adb4b7f69740267762ed2e1b43\n",
      "ERROR: Error: no alert found with hash 0x3fb1ebf6f55424105a6ea785c4babafb3c9ec59f3ee045382678c3345bbce20f\n"
     ]
    }
   ],
   "source": [
    "!grep 'ERROR' {name}.txt\n"
   ]
  },
  {
   "cell_type": "code",
   "execution_count": null,
   "metadata": {},
   "outputs": [],
   "source": [
    "!grep 'WARN' {name}.txt"
   ]
  },
  {
   "cell_type": "code",
   "execution_count": null,
   "metadata": {},
   "outputs": [],
   "source": [
    "!grep 'adding cluster mapping' {name}.txt"
   ]
  },
  {
   "cell_type": "code",
   "execution_count": null,
   "metadata": {},
   "outputs": [],
   "source": [
    "!grep 'adding FP mitigation cluster' {name}.txt"
   ]
  },
  {
   "cell_type": "code",
   "execution_count": null,
   "metadata": {},
   "outputs": [],
   "source": [
    "#read output.txt and answer questions around\n",
    "!grep 'anomaly' {name}.txt\n",
    "\n",
    "\n",
    "#anomaly scores\n",
    "#FP filtering\n"
   ]
  },
  {
   "cell_type": "code",
   "execution_count": null,
   "metadata": {},
   "outputs": [],
   "source": []
  }
 ],
 "metadata": {
  "kernelspec": {
   "display_name": "forta",
   "language": "python",
   "name": "python3"
  },
  "language_info": {
   "codemirror_mode": {
    "name": "ipython",
    "version": 3
   },
   "file_extension": ".py",
   "mimetype": "text/x-python",
   "name": "python",
   "nbconvert_exporter": "python",
   "pygments_lexer": "ipython3",
   "version": "3.8.13"
  },
  "orig_nbformat": 4,
  "vscode": {
   "interpreter": {
    "hash": "31f6e1811d5b736dff4620794320d6dcce7f07a0a9add80071f131104eb0b480"
   }
  }
 },
 "nbformat": 4,
 "nbformat_minor": 2
}
