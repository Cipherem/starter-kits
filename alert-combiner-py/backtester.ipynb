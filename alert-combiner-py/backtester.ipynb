{
 "cells": [
  {
   "cell_type": "code",
   "execution_count": 1,
   "metadata": {},
   "outputs": [
    {
     "data": {
      "text/plain": [
       "True"
      ]
     },
     "execution_count": 1,
     "metadata": {},
     "output_type": "execute_result"
    }
   ],
   "source": [
    "# Copyright 2022 The Forta Foundation\n",
    " \n",
    "import requests\n",
    "import pandas as pd\n",
    "import json\n",
    "import dotenv\n",
    "import os\n",
    "\n",
    "# Load environment variables\n",
    "dotenv.load_dotenv()"
   ]
  },
  {
   "attachments": {},
   "cell_type": "markdown",
   "metadata": {},
   "source": [
    "This notebook allows to backtest the attack detector V2 against a set of alerts. Independent of the threshold set within the bot, the log will be analyzed, so the relevant alerts, their anomaly score, overall anomaly score, and any FP filtering mitigations are shown.\n",
    "\n",
    "Since there is a command line character limit, the local persistence mechanism needs to be enabled to persist state across executions (by setting local node property in constants.py to 1)"
   ]
  },
  {
   "cell_type": "code",
   "execution_count": 2,
   "metadata": {},
   "outputs": [],
   "source": [
    "chain = \"ethereum\"\n",
    "attacks = [#(\"0x14d8Ada7A0BA91f59Dc0Cb97C8F44F1d177c2195\",\"ethereum\",\"tominu\",\"2023-01-18\",\"2023-01-27\"),\n",
    "           #(\"0x69f0EdC352eCffC4EF49516c9b20eA88B3E947cb,0xceed34f03a3e607cc04c2d0441c7386b190d7cf4\",\"ethereum\",\"blueclues\",\"2023-01-19\",\"2023-01-26\"),\n",
    "           #(\"0x88a2386e7ec97ad1e7a72176a66b6d0711ae3527\",\"ethereum\",\"quaternion\",\"2023-01-17\",\"2023-01-19\"),\n",
    "           #(\"0x8a2d94ea342cbdd6d57db614b24f20cae286cac6,0x22898dc59145eae79471dd1f06b7e542e0982d30\",\"ethereum\",\"Upswing\",\"2022-12-21\",\"2023-01-20\"),\n",
    "           #(\"0x15d87DC2Eb27fdA26451f8FB04C576639104344d\",\"ethereum\",\"roefinance\",\"2023-01-10\",\"2023-01-18\"),\n",
    "           #(\"0x9D0163e76BbCf776001E639d65F573949a53AB03\",\"ethereum\",\"lendhub\",\"2023-01-10\",\"2023-01-16\"),\n",
    "           #(\"0xc578d755cd56255d3ff6e92e1b6371ba945e3984\",\"binance\",\"ufdaoattack\",\"2023-01-01\",\"2023-02-06\")\n",
    "           (\"0x7021c1b142eb634fa0749cda270c7aff74dc3b7f\",\"ethereum\",\"DEPUSDT\",\"2023-06-06\",\"2023-06-15\"),\n",
    "           ]\n",
    "\n",
    "# chain = \"binance\"\n",
    "# attacks = [#(\"0x66be80c796cba0844dace3e291632bfd397bd7a0\",\"binance\",\"phyproxy\",\"2023-01-01\",\"2023-01-24\"),\n",
    "#            #(\"0x1ae2dc57399b2f4597366c5bf4fe39859c006f99\",\"binance\",\"thoreum\",\"2023-01-14\",\"2023-01-20\"),\n",
    "#            #(\"0x9BbD94506398a1459F0Cd3B2638512627390255e,0xda5919bf3a49ad47b7c7103a9ed3902cee78d528\",\"binance\",\"omniprotocol\",\"2023-01-07\",\"2023-01-18\"),\n",
    "#            (\"0xc578d755cd56255d3ff6e92e1b6371ba945e3984\",\"binance\",\"ufdaoattack\",\"2023-01-01\",\"2023-02-06\"),\n",
    "#            (\"0x67a909f2953fb1138beA4B60894B51291D2d0795,0xE2Ba15be8C6Fb0d7C1F7bEA9106eb8232248FB8B\",\"binance\",\"bratoken\",\"2022-12-08\",\"2023-01-16\"),\n",
    "#            #(\"0xcf2362b46669e04b16d0780cf9b6e61c82de36a7\",\"binance\",\"GDS\",\"2023-01-01\",\"2023-01-05\")\n",
    "#             ]"
   ]
  },
  {
   "cell_type": "code",
   "execution_count": 3,
   "metadata": {},
   "outputs": [],
   "source": [
    "# #clustering\n",
    "# for attacker_address in attacker_addresses.split(\",\"):\n",
    "#     sql = f\"SELECT metadata FROM forta.{chain}_alerts WHERE bot_id = '0xd3061db4662d5b3406b52b20f34234e462d2c275b99414d76dc644e2486be3e9' and CAST(substring(block_timestamp,1,19) as datetime)  >= '2022-10-01T00:00:00' AND CAST(substring(block_timestamp,1,19)  as datetime)  <= '{end_date}T00:00:00' and  lower(arrayStringConcat(metadata)) like '%{attacker_address.lower()}%'\"\n",
    "#     print(sql)\n",
    "#     df = execute_query(sql)\n",
    "#     print(df)"
   ]
  },
  {
   "cell_type": "code",
   "execution_count": 4,
   "metadata": {},
   "outputs": [],
   "source": [
    "def get_alert_hashes(attacker_addresses: str, start_date: str, end_date: str) -> pd.DataFrame:\n",
    "\n",
    "    alert_hashes_df = pd.DataFrame(columns=[\"hash\",\"createdAt\"])\n",
    "    for attacker_address in attacker_addresses.split(\",\"):\n",
    "        url = 'https://api.forta.network/graphql'\n",
    "        query = '''query exampleQuery {\n",
    "            # first 5 alerts\n",
    "            alerts(\n",
    "                input: { first: 2000 , addresses: [\"'''+attacker_address+'''\"],\n",
    "                blockDateRange: { startDate: \"'''+start_date+'''\", endDate: \"'''+end_date+'''\" }\n",
    "                }\n",
    "            ) {\n",
    "                pageInfo {\n",
    "                hasNextPage\n",
    "                endCursor {\n",
    "                    alertId\n",
    "                    blockNumber\n",
    "                }\n",
    "                }\n",
    "                alerts {\n",
    "                hash\n",
    "                createdAt\n",
    "                \n",
    "                }\n",
    "            }\n",
    "            }\n",
    "        '''\n",
    "        r = requests.post(url, json={'query': query})\n",
    "        #print(r.text)\n",
    "        json_data = json.loads(r.text)\n",
    "        df = pd.DataFrame(json_data['data']['alerts']['alerts'])\n",
    "        #print(df)\n",
    "        alert_hashes_df = pd.concat([alert_hashes_df, df])\n",
    "\n",
    "    \n",
    "    return alert_hashes_df\n"
   ]
  },
  {
   "cell_type": "code",
   "execution_count": 12,
   "metadata": {},
   "outputs": [
    {
     "name": "stdout",
     "output_type": "stream",
     "text": [
      "zsh:1: command not found: npm\n"
     ]
    }
   ],
   "source": [
    "!npm\n"
   ]
  },
  {
   "cell_type": "code",
   "execution_count": 13,
   "metadata": {},
   "outputs": [
    {
     "name": "stdout",
     "output_type": "stream",
     "text": [
      "41\n",
      "Got 41 alerts.\n",
      "npm run alert 0x91cafe6f506c0a43d5c522f6b4d45d95dbc3784c3c000d0eba61a846dc98b158 >> DEPUSDT.txt 2>> DEPUSDT_ethereum.txt\n",
      "npm run alert 0x465620f14b05398612f7b7f964992f60c751febe6da86714d15f4c9e8bf04a4a >> DEPUSDT.txt 2>> DEPUSDT_ethereum.txt\n",
      "npm run alert 0xdc501d2cea0c1d41d16515c4b00e17f65c73b1f8810bd037df1b9415b5096b3e >> DEPUSDT.txt 2>> DEPUSDT_ethereum.txt\n",
      "npm run alert 0x95bc70062ec9be11c3992bfab4f395824d3524620836b2850a8a32dfb3edbdb3 >> DEPUSDT.txt 2>> DEPUSDT_ethereum.txt\n",
      "npm run alert 0x052a6794de5d827623bcc2882bd2d665283d4300a45870013bdd48356539b5d7 >> DEPUSDT.txt 2>> DEPUSDT_ethereum.txt\n",
      "npm run alert 0xfd4167073e8eca027c1ffc1eee3f132d35aea071cc54ce118b0616c369ee010c >> DEPUSDT.txt 2>> DEPUSDT_ethereum.txt\n",
      "npm run alert 0x499527841faf22cfc9c3210bd68d46b0699aa646b5ff69ed93335795c20da2ba >> DEPUSDT.txt 2>> DEPUSDT_ethereum.txt\n",
      "npm run alert 0x1813641ef3abc00366abfd96697485c735766fdd86eec6621c257fe47c97e56d >> DEPUSDT.txt 2>> DEPUSDT_ethereum.txt\n",
      "npm run alert 0x10638e4e031ead442d4a8d30d0a1c1998d52bf3db7c769eb809bac4c6c9c599d >> DEPUSDT.txt 2>> DEPUSDT_ethereum.txt\n",
      "npm run alert 0xf1ee8516bb27cb89861bdcf7e588c4100917039aec892a5551a974d7484c2ffa >> DEPUSDT.txt 2>> DEPUSDT_ethereum.txt\n",
      "npm run alert 0x90b3f283e1e8c43faaf3c53ba6ac66122e441598ddf86beb84b79e649a5354b5 >> DEPUSDT.txt 2>> DEPUSDT_ethereum.txt\n",
      "npm run alert 0xd59eb6420344c2356dcf8b37deb37c46bdc6c88a886468d61ef87b2ae6fe013d >> DEPUSDT.txt 2>> DEPUSDT_ethereum.txt\n",
      "npm run alert 0xc3526a73281e6f3a8921d6868757290662c97057b84e976c07414a9d458c5ba0 >> DEPUSDT.txt 2>> DEPUSDT_ethereum.txt\n",
      "npm run alert 0x5ff7b4be5221e317fa045dfc1d1629e8656aeb43a95f473ab89d16ae7dca30dd >> DEPUSDT.txt 2>> DEPUSDT_ethereum.txt\n",
      "npm run alert 0x2ed0bf7362110b055093d47c262f771fab838493fc0b2d6842b88c60a0873d37 >> DEPUSDT.txt 2>> DEPUSDT_ethereum.txt\n",
      "npm run alert 0x0e2c033a81a8249f962350408f349e71bf656af88a6a930a97885b9427e26fba >> DEPUSDT.txt 2>> DEPUSDT_ethereum.txt\n",
      "npm run alert 0x83b954f2ad6a6ae697cdce994e8bd07ac9a45433cd348d16cf9046d63a76730e >> DEPUSDT.txt 2>> DEPUSDT_ethereum.txt\n",
      "npm run alert 0x7a77640782d0f8883e528ab22a95f202b45795d2dbeb090689f24a3d30fdf040 >> DEPUSDT.txt 2>> DEPUSDT_ethereum.txt\n",
      "npm run alert 0xf80d2073f6c93db6de5eb98a07d323e3e5f85c011bb7c2e623999a57323a4582 >> DEPUSDT.txt 2>> DEPUSDT_ethereum.txt\n",
      "npm run alert 0xa9583ab0300f26dc8fd912f25602c887c854c28f4c7b4303577821b5c330038d >> DEPUSDT.txt 2>> DEPUSDT_ethereum.txt\n",
      "npm run alert 0xa13944994f2f065f28f04684922d64d4041aa68a11136b28250c315330ef1a6d >> DEPUSDT.txt 2>> DEPUSDT_ethereum.txt\n",
      "npm run alert 0x6ca6590fda0ab8f2fd31df1808c4381e09e56886b965748e04bdc420684ba498 >> DEPUSDT.txt 2>> DEPUSDT_ethereum.txt\n",
      "npm run alert 0xf43aaf8c50f06504d3970bc8c4516907bb3b481d48cab68aa82630b7e5e72dc6 >> DEPUSDT.txt 2>> DEPUSDT_ethereum.txt\n",
      "npm run alert 0xe93647185512b88197d3be3446825d659cbff0aa502fc179e7f6e2c990b4a329 >> DEPUSDT.txt 2>> DEPUSDT_ethereum.txt\n",
      "npm run alert 0xd4fae8883859821cec22881968fbde92e46a334ea72388f66f02608433835ffe >> DEPUSDT.txt 2>> DEPUSDT_ethereum.txt\n",
      "npm run alert 0xc91aa929b7471981fd93c6bece782497f636e1ed201628b35650884991b4adfd >> DEPUSDT.txt 2>> DEPUSDT_ethereum.txt\n",
      "npm run alert 0xc76adf72da2649d331e3d61b0bae7e401bb1735af03e0e1c40f383eb71a3e15d >> DEPUSDT.txt 2>> DEPUSDT_ethereum.txt\n",
      "npm run alert 0x89fcd219aa5023ce9f71d194a92a755f193bc360df6df304b94dca8abd112f80 >> DEPUSDT.txt 2>> DEPUSDT_ethereum.txt\n",
      "npm run alert 0x83fd765d49164445fb691565984dbfec409a42a775787fd7366cb1d7706a62b1 >> DEPUSDT.txt 2>> DEPUSDT_ethereum.txt\n",
      "npm run alert 0x0c7d4574115fef160a33cc26730fc22e777593804c321aee6b6d543caf1de0b1 >> DEPUSDT.txt 2>> DEPUSDT_ethereum.txt\n",
      "npm run alert 0xd50f4be6a82f8bea32f716645c410e44b6d5a74bce9e3d1ec7cb07a2d63b1f1d >> DEPUSDT.txt 2>> DEPUSDT_ethereum.txt\n",
      "npm run alert 0xd22c47b7ec95d372926c7faa4536e4a7b227727d1b1e4a8dac052931cfe5aa55 >> DEPUSDT.txt 2>> DEPUSDT_ethereum.txt\n",
      "npm run alert 0xba24427f4985cf5552373773c8e13b4ed43a46817f2104cfad057cad199310f6 >> DEPUSDT.txt 2>> DEPUSDT_ethereum.txt\n",
      "npm run alert 0xa0a619639f3481f7265965fab3b89ac67e3cf596627621184f78571d81014210 >> DEPUSDT.txt 2>> DEPUSDT_ethereum.txt\n",
      "npm run alert 0x71f4c68637354443d9b0e326466928e5494d1facf6e5be5e061ebbf405e5761e >> DEPUSDT.txt 2>> DEPUSDT_ethereum.txt\n",
      "npm run alert 0x68ae25b7bafbf2bba745c149f457b68abe989ff9745941467eb92d70aca76f95 >> DEPUSDT.txt 2>> DEPUSDT_ethereum.txt\n",
      "npm run alert 0x30620f8b3de73444e8e6a38f4bf08f069b44f4694311e546b00f362c87e7e1f3 >> DEPUSDT.txt 2>> DEPUSDT_ethereum.txt\n",
      "npm run alert 0x27f7ccc60305d96500878c78763bea134512d00e94f94d3712f0925e91d42425 >> DEPUSDT.txt 2>> DEPUSDT_ethereum.txt\n",
      "npm run alert 0xa6fd49156a7925896b4b8c546b98746d37d9e27d771f1e86f15894fcc86d1bd3 >> DEPUSDT.txt 2>> DEPUSDT_ethereum.txt\n",
      "npm run alert 0x53388252c5c7e8917fda9e638fb7b92aefee8ad84386bd898096b692daeb4bb5 >> DEPUSDT.txt 2>> DEPUSDT_ethereum.txt\n",
      "npm run alert 0x259cedc3809e300d35767ace5db9d8b2810a78274ba98652d9f6a77ff8802f67 >> DEPUSDT.txt 2>> DEPUSDT_ethereum.txt\n"
     ]
    }
   ],
   "source": [
    "\n",
    "for attacker_addresses, chain, name, start_date, end_date in attacks:\n",
    "\n",
    "    alert_hashes_df = get_alert_hashes(attacker_addresses.lower(), start_date, end_date)\n",
    "    print(f\"Got {len(alert_hashes_df)} alerts.\")\n",
    "    !echo 'output.txt' > {name}_.txt\n",
    "\n",
    "    #run npm run to get and route to output.txt\n",
    "    count = 0\n",
    "    alert_hashes = \"\"\n",
    "    for alert_hash in alert_hashes_df[\"hash\"]:\n",
    "        print(f\"npm run alert {alert_hash} >> {name}.txt 2>> {name}_{chain}.txt\")\n",
    "        !npm run alert {alert_hash} >> {name}.txt 2>> {name}_{chain}.txt\n",
    "\n",
    "\n",
    "    !grep 'ERROR'  {name}_{chain}.txt >  {name}_{chain}_results.txt\n",
    "    !grep 'WARN'  {name}_{chain}.txt >>  {name}_{chain}_results.txt\n",
    "    !grep 'adding cluster mapping'  {name}_{chain}.txt >>  {name}_{chain}_results.txt\n",
    "    !grep 'adding FP mitigation cluster'  {name}_{chain}.txt >>  {name}_{chain}_results.txt\n",
    "    !grep 'anomaly'  {name}_{chain}.txt >>  {name}_{chain}_results.txt\n",
    "    \n",
    "\n"
   ]
  },
  {
   "cell_type": "code",
   "execution_count": 6,
   "metadata": {},
   "outputs": [],
   "source": [
    "!grep 'ERROR' {name}.txt\n"
   ]
  },
  {
   "cell_type": "code",
   "execution_count": 7,
   "metadata": {},
   "outputs": [],
   "source": [
    "!grep 'WARN' {name}.txt"
   ]
  },
  {
   "cell_type": "code",
   "execution_count": 8,
   "metadata": {},
   "outputs": [],
   "source": [
    "!grep 'adding cluster mapping' {name}.txt"
   ]
  },
  {
   "cell_type": "code",
   "execution_count": 9,
   "metadata": {},
   "outputs": [],
   "source": [
    "!grep 'adding FP mitigation cluster' {name}.txt"
   ]
  },
  {
   "cell_type": "code",
   "execution_count": 10,
   "metadata": {},
   "outputs": [],
   "source": [
    "#read output.txt and answer questions around\n",
    "!grep 'anomaly' {name}.txt\n",
    "\n",
    "\n",
    "#anomaly scores\n",
    "#FP filtering\n"
   ]
  },
  {
   "cell_type": "code",
   "execution_count": null,
   "metadata": {},
   "outputs": [],
   "source": []
  }
 ],
 "metadata": {
  "kernelspec": {
   "display_name": "forta",
   "language": "python",
   "name": "python3"
  },
  "language_info": {
   "codemirror_mode": {
    "name": "ipython",
    "version": 3
   },
   "file_extension": ".py",
   "mimetype": "text/x-python",
   "name": "python",
   "nbconvert_exporter": "python",
   "pygments_lexer": "ipython3",
   "version": "3.8.13"
  },
  "orig_nbformat": 4,
  "vscode": {
   "interpreter": {
    "hash": "31f6e1811d5b736dff4620794320d6dcce7f07a0a9add80071f131104eb0b480"
   }
  }
 },
 "nbformat": 4,
 "nbformat_minor": 2
}
