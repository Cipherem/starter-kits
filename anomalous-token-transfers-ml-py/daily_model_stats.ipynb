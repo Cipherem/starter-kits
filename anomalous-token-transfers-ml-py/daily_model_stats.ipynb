{
 "cells": [
  {
   "cell_type": "markdown",
   "id": "83014bac-ac70-4a4c-87f2-450e4faf4343",
   "metadata": {},
   "source": [
    "# Calculate `Anomalous Token Transfers Detection Machine Learning Bot`'s Stats with Forta API\n",
    "\n",
    "\n",
    "* [bot README](https://github.com/forta-network/starter-kits/tree/main/anomalous-token-transfers-ml-py/README.md)\n",
    "* [bot details page](https://explorer.forta.network/bot/0x2e51c6a89c2dccc16a813bb0c3bf3bbfe94414b6a0ea3fc650ad2a59e148f3c8)"
   ]
  },
  {
   "cell_type": "code",
   "execution_count": 2,
   "id": "abd1bd77-b2e4-43ec-8c13-dab4dcad088f",
   "metadata": {},
   "outputs": [],
   "source": [
    "from datetime import datetime, timedelta\n",
    "\n",
    "import pandas as pd\n",
    "import requests"
   ]
  },
  {
   "cell_type": "markdown",
   "id": "8408f053-b692-40d1-80fe-b452adac986d",
   "metadata": {},
   "source": [
    "# 1. Query previous day's bot alerts with the Forta API"
   ]
  },
  {
   "cell_type": "code",
   "execution_count": 49,
   "id": "a13d1bdd-0d5a-41c0-b6c0-cc97f4e39f0d",
   "metadata": {},
   "outputs": [],
   "source": [
    "forta_api = \"https://api.forta.network/graphql\"\n",
    "headers = {\"content-type\": \"application/json\"}\n",
    "\n",
    "# start and end date needs to be in the format: YYYY-MM-DD\n",
    "START_DATE = str((datetime.today() - timedelta(days=1)).date())\n",
    "END_DATE = START_DATE\n",
    "BOT_ID = \"0x2e51c6a89c2dccc16a813bb0c3bf3bbfe94414b6a0ea3fc650ad2a59e148f3c8\"\n",
    "\n",
    "query = \"\"\"\n",
    "query exampleQuery($input: AlertsInput) {\n",
    "  alerts(input: $input) {\n",
    "    alerts {\n",
    "      findingType\n",
    "      severity\n",
    "      metadata\n",
    "      alertId\n",
    "      hash\n",
    "      source {\n",
    "        block {\n",
    "          number\n",
    "        }\n",
    "        transactionHash\n",
    "      }\n",
    "    }\n",
    "    pageInfo {\n",
    "      hasNextPage\n",
    "      endCursor {\n",
    "        blockNumber\n",
    "        alertId\n",
    "      }\n",
    "    }\n",
    "  }\n",
    "}\n",
    "\"\"\"\n",
    "\n",
    "query_variables = {\n",
    "  \"input\": {\n",
    "    \"first\": 9999,\n",
    "    \"bots\": [BOT_ID],\n",
    "    \"blockDateRange\": {\n",
    "      \"startDate\": START_DATE,\n",
    "      \"endDate\": END_DATE\n",
    "    }\n",
    "  }\n",
    "}"
   ]
  },
  {
   "cell_type": "code",
   "execution_count": 50,
   "id": "6bf57c86-43b3-4e5d-b123-e4cd4a394a23",
   "metadata": {},
   "outputs": [],
   "source": [
    "all_alerts = []\n",
    "next_page_exists = True\n",
    "\n",
    "while next_page_exists:\n",
    "    # query Forta API\n",
    "    payload = dict(query=query, variables=query_variables)\n",
    "    response = requests.request(\"POST\", forta_api, json=payload, headers=headers)\n",
    "\n",
    "    # collect alerts\n",
    "    data = response.json()['data']['alerts']\n",
    "    alerts = data['alerts']\n",
    "    all_alerts += alerts\n",
    "\n",
    "    # get next page of alerts if it exists\n",
    "    next_page_exists = data['pageInfo']['hasNextPage']\n",
    "    # endCursor contains alert Id and block number.\n",
    "    # This is needed to get the next page of alerts.\n",
    "    end_cursor = data['pageInfo']['endCursor']\n",
    "    query_variables['input']['after'] = end_cursor"
   ]
  },
  {
   "cell_type": "code",
   "execution_count": 51,
   "id": "78b84870-be86-42b6-95b4-2007d581e0a2",
   "metadata": {},
   "outputs": [],
   "source": [
    "df = pd.json_normalize(all_alerts)"
   ]
  },
  {
   "cell_type": "code",
   "execution_count": 52,
   "id": "cd6c5e23-548d-4767-a7ba-b67564b33a51",
   "metadata": {},
   "outputs": [],
   "source": [
    "df.to_csv(f'{START_DATE}_alerts.csv', index=None)"
   ]
  },
  {
   "cell_type": "code",
   "execution_count": 61,
   "id": "4111a405-5b3b-4d40-a8ad-80062084ecd9",
   "metadata": {},
   "outputs": [],
   "source": [
    "# remove duplicate alerts for each transaction\n",
    "df = df.drop_duplicates('source.transactionHash')"
   ]
  },
  {
   "cell_type": "code",
   "execution_count": 62,
   "id": "c281f00c-ed4a-48f8-acd4-2d265011275e",
   "metadata": {},
   "outputs": [
    {
     "data": {
      "text/html": [
       "<div>\n",
       "<style scoped>\n",
       "    .dataframe tbody tr th:only-of-type {\n",
       "        vertical-align: middle;\n",
       "    }\n",
       "\n",
       "    .dataframe tbody tr th {\n",
       "        vertical-align: top;\n",
       "    }\n",
       "\n",
       "    .dataframe thead th {\n",
       "        text-align: right;\n",
       "    }\n",
       "</style>\n",
       "<table border=\"1\" class=\"dataframe\">\n",
       "  <thead>\n",
       "    <tr style=\"text-align: right;\">\n",
       "      <th></th>\n",
       "      <th>findingType</th>\n",
       "      <th>severity</th>\n",
       "      <th>alertId</th>\n",
       "      <th>hash</th>\n",
       "      <th>metadata.ikolfTransfers</th>\n",
       "      <th>metadata.ikolfValue</th>\n",
       "      <th>metadata.wethTransfers</th>\n",
       "      <th>metadata.wethValue</th>\n",
       "      <th>metadata.accountAgeInMinutes</th>\n",
       "      <th>metadata.anomalyScore</th>\n",
       "      <th>...</th>\n",
       "      <th>metadata.copingTransfers</th>\n",
       "      <th>metadata.copingValue</th>\n",
       "      <th>metadata.asanTransfers</th>\n",
       "      <th>metadata.asanValue</th>\n",
       "      <th>metadata.🐱Transfers</th>\n",
       "      <th>metadata.🐱Value</th>\n",
       "      <th>metadata.cashnipTransfers</th>\n",
       "      <th>metadata.cashnipValue</th>\n",
       "      <th>metadata.ctznTransfers</th>\n",
       "      <th>metadata.ctznValue</th>\n",
       "    </tr>\n",
       "  </thead>\n",
       "  <tbody>\n",
       "    <tr>\n",
       "      <th>0</th>\n",
       "      <td>INFORMATION</td>\n",
       "      <td>INFO</td>\n",
       "      <td>NORMAL-TOKEN-TRANSFERS-TX</td>\n",
       "      <td>0xf55c12e82132659ac0105facfc72c19f55b84065cfb0dc960f1bf986f331d79c</td>\n",
       "      <td>2</td>\n",
       "      <td>1422.725</td>\n",
       "      <td>2</td>\n",
       "      <td>0.197</td>\n",
       "      <td>812337.0833333334</td>\n",
       "      <td>0.313</td>\n",
       "      <td>...</td>\n",
       "      <td>NaN</td>\n",
       "      <td>NaN</td>\n",
       "      <td>NaN</td>\n",
       "      <td>NaN</td>\n",
       "      <td>NaN</td>\n",
       "      <td>NaN</td>\n",
       "      <td>NaN</td>\n",
       "      <td>NaN</td>\n",
       "      <td>NaN</td>\n",
       "      <td>NaN</td>\n",
       "    </tr>\n",
       "    <tr>\n",
       "      <th>1</th>\n",
       "      <td>INFORMATION</td>\n",
       "      <td>INFO</td>\n",
       "      <td>NORMAL-TOKEN-TRANSFERS-TX</td>\n",
       "      <td>0xed033b70db11cbd05169cb32463b728d4f849415ea07719521d066b6b83b4c3d</td>\n",
       "      <td>NaN</td>\n",
       "      <td>NaN</td>\n",
       "      <td>NaN</td>\n",
       "      <td>NaN</td>\n",
       "      <td>1769047.6833333333</td>\n",
       "      <td>0.314</td>\n",
       "      <td>...</td>\n",
       "      <td>NaN</td>\n",
       "      <td>NaN</td>\n",
       "      <td>NaN</td>\n",
       "      <td>NaN</td>\n",
       "      <td>NaN</td>\n",
       "      <td>NaN</td>\n",
       "      <td>NaN</td>\n",
       "      <td>NaN</td>\n",
       "      <td>NaN</td>\n",
       "      <td>NaN</td>\n",
       "    </tr>\n",
       "    <tr>\n",
       "      <th>2</th>\n",
       "      <td>INFORMATION</td>\n",
       "      <td>INFO</td>\n",
       "      <td>NORMAL-TOKEN-TRANSFERS-TX</td>\n",
       "      <td>0xde8daaafd40b9078393f040877b551d2b57be609f8aa0411a02443426e5871d8</td>\n",
       "      <td>NaN</td>\n",
       "      <td>NaN</td>\n",
       "      <td>1</td>\n",
       "      <td>0.507</td>\n",
       "      <td>287494.81666666665</td>\n",
       "      <td>0.305</td>\n",
       "      <td>...</td>\n",
       "      <td>NaN</td>\n",
       "      <td>NaN</td>\n",
       "      <td>NaN</td>\n",
       "      <td>NaN</td>\n",
       "      <td>NaN</td>\n",
       "      <td>NaN</td>\n",
       "      <td>NaN</td>\n",
       "      <td>NaN</td>\n",
       "      <td>NaN</td>\n",
       "      <td>NaN</td>\n",
       "    </tr>\n",
       "    <tr>\n",
       "      <th>3</th>\n",
       "      <td>INFORMATION</td>\n",
       "      <td>INFO</td>\n",
       "      <td>NORMAL-TOKEN-TRANSFERS-TX</td>\n",
       "      <td>0xdd55f9153faf5daab3393aefa0a8e0af8c782b59728272b93ea1d9941c4c67cf</td>\n",
       "      <td>NaN</td>\n",
       "      <td>NaN</td>\n",
       "      <td>NaN</td>\n",
       "      <td>NaN</td>\n",
       "      <td>1769047.6833333333</td>\n",
       "      <td>0.328</td>\n",
       "      <td>...</td>\n",
       "      <td>NaN</td>\n",
       "      <td>NaN</td>\n",
       "      <td>NaN</td>\n",
       "      <td>NaN</td>\n",
       "      <td>NaN</td>\n",
       "      <td>NaN</td>\n",
       "      <td>NaN</td>\n",
       "      <td>NaN</td>\n",
       "      <td>NaN</td>\n",
       "      <td>NaN</td>\n",
       "    </tr>\n",
       "    <tr>\n",
       "      <th>4</th>\n",
       "      <td>INFORMATION</td>\n",
       "      <td>INFO</td>\n",
       "      <td>NORMAL-TOKEN-TRANSFERS-TX</td>\n",
       "      <td>0xdd1baf31b7fe485891811f7c60c22e02af46abaac885b9b24a89496eafb1035f</td>\n",
       "      <td>NaN</td>\n",
       "      <td>NaN</td>\n",
       "      <td>NaN</td>\n",
       "      <td>NaN</td>\n",
       "      <td>1172160.1333333333</td>\n",
       "      <td>0.317</td>\n",
       "      <td>...</td>\n",
       "      <td>NaN</td>\n",
       "      <td>NaN</td>\n",
       "      <td>NaN</td>\n",
       "      <td>NaN</td>\n",
       "      <td>NaN</td>\n",
       "      <td>NaN</td>\n",
       "      <td>NaN</td>\n",
       "      <td>NaN</td>\n",
       "      <td>NaN</td>\n",
       "      <td>NaN</td>\n",
       "    </tr>\n",
       "  </tbody>\n",
       "</table>\n",
       "<p>5 rows × 8122 columns</p>\n",
       "</div>"
      ],
      "text/plain": [
       "   findingType severity                    alertId  \\\n",
       "0  INFORMATION     INFO  NORMAL-TOKEN-TRANSFERS-TX   \n",
       "1  INFORMATION     INFO  NORMAL-TOKEN-TRANSFERS-TX   \n",
       "2  INFORMATION     INFO  NORMAL-TOKEN-TRANSFERS-TX   \n",
       "3  INFORMATION     INFO  NORMAL-TOKEN-TRANSFERS-TX   \n",
       "4  INFORMATION     INFO  NORMAL-TOKEN-TRANSFERS-TX   \n",
       "\n",
       "                                                                 hash  \\\n",
       "0  0xf55c12e82132659ac0105facfc72c19f55b84065cfb0dc960f1bf986f331d79c   \n",
       "1  0xed033b70db11cbd05169cb32463b728d4f849415ea07719521d066b6b83b4c3d   \n",
       "2  0xde8daaafd40b9078393f040877b551d2b57be609f8aa0411a02443426e5871d8   \n",
       "3  0xdd55f9153faf5daab3393aefa0a8e0af8c782b59728272b93ea1d9941c4c67cf   \n",
       "4  0xdd1baf31b7fe485891811f7c60c22e02af46abaac885b9b24a89496eafb1035f   \n",
       "\n",
       "  metadata.ikolfTransfers metadata.ikolfValue metadata.wethTransfers  \\\n",
       "0                       2            1422.725                      2   \n",
       "1                     NaN                 NaN                    NaN   \n",
       "2                     NaN                 NaN                      1   \n",
       "3                     NaN                 NaN                    NaN   \n",
       "4                     NaN                 NaN                    NaN   \n",
       "\n",
       "  metadata.wethValue metadata.accountAgeInMinutes  metadata.anomalyScore  ...  \\\n",
       "0              0.197            812337.0833333334                  0.313  ...   \n",
       "1                NaN           1769047.6833333333                  0.314  ...   \n",
       "2              0.507           287494.81666666665                  0.305  ...   \n",
       "3                NaN           1769047.6833333333                  0.328  ...   \n",
       "4                NaN           1172160.1333333333                  0.317  ...   \n",
       "\n",
       "  metadata.copingTransfers metadata.copingValue metadata.asanTransfers  \\\n",
       "0                      NaN                  NaN                    NaN   \n",
       "1                      NaN                  NaN                    NaN   \n",
       "2                      NaN                  NaN                    NaN   \n",
       "3                      NaN                  NaN                    NaN   \n",
       "4                      NaN                  NaN                    NaN   \n",
       "\n",
       "  metadata.asanValue metadata.🐱Transfers metadata.🐱Value  \\\n",
       "0                NaN                 NaN             NaN   \n",
       "1                NaN                 NaN             NaN   \n",
       "2                NaN                 NaN             NaN   \n",
       "3                NaN                 NaN             NaN   \n",
       "4                NaN                 NaN             NaN   \n",
       "\n",
       "  metadata.cashnipTransfers metadata.cashnipValue metadata.ctznTransfers  \\\n",
       "0                       NaN                   NaN                    NaN   \n",
       "1                       NaN                   NaN                    NaN   \n",
       "2                       NaN                   NaN                    NaN   \n",
       "3                       NaN                   NaN                    NaN   \n",
       "4                       NaN                   NaN                    NaN   \n",
       "\n",
       "  metadata.ctznValue  \n",
       "0                NaN  \n",
       "1                NaN  \n",
       "2                NaN  \n",
       "3                NaN  \n",
       "4                NaN  \n",
       "\n",
       "[5 rows x 8122 columns]"
      ]
     },
     "execution_count": 62,
     "metadata": {},
     "output_type": "execute_result"
    }
   ],
   "source": [
    "df.head(5)"
   ]
  },
  {
   "cell_type": "markdown",
   "id": "a66daf2c-f844-4fc8-a00b-6d6d3e152018",
   "metadata": {},
   "source": [
    "# 2. Gather Stats"
   ]
  },
  {
   "cell_type": "markdown",
   "id": "a80ad498-c00c-44ab-a360-a5baded7fb5a",
   "metadata": {},
   "source": [
    "## Severity Level Breakdown Percentage"
   ]
  },
  {
   "cell_type": "code",
   "execution_count": 63,
   "id": "7fa47671-7663-43ab-ac1d-f5750e1fb76d",
   "metadata": {},
   "outputs": [],
   "source": [
    "TOTAL_ALERTS = len(df)\n",
    "\n",
    "severity_level = df.groupby(['severity', 'alertId']).agg({'hash': 'count'}).reset_index().rename(columns={'hash': 'hash_count'})\n",
    "severity_level['percentage'] = (severity_level['hash_count'] / TOTAL_ALERTS) * 100"
   ]
  },
  {
   "cell_type": "code",
   "execution_count": 64,
   "id": "cdc77153-5eb6-4b63-a80e-8d3e15fdda9d",
   "metadata": {},
   "outputs": [
    {
     "data": {
      "text/html": [
       "<div>\n",
       "<style scoped>\n",
       "    .dataframe tbody tr th:only-of-type {\n",
       "        vertical-align: middle;\n",
       "    }\n",
       "\n",
       "    .dataframe tbody tr th {\n",
       "        vertical-align: top;\n",
       "    }\n",
       "\n",
       "    .dataframe thead th {\n",
       "        text-align: right;\n",
       "    }\n",
       "</style>\n",
       "<table border=\"1\" class=\"dataframe\">\n",
       "  <thead>\n",
       "    <tr style=\"text-align: right;\">\n",
       "      <th></th>\n",
       "      <th>severity</th>\n",
       "      <th>alertId</th>\n",
       "      <th>hash_count</th>\n",
       "      <th>percentage</th>\n",
       "    </tr>\n",
       "  </thead>\n",
       "  <tbody>\n",
       "    <tr>\n",
       "      <th>0</th>\n",
       "      <td>CRITICAL</td>\n",
       "      <td>ANOMALOUS-TOKEN-TRANSFERS-TX</td>\n",
       "      <td>589</td>\n",
       "      <td>0.371365</td>\n",
       "    </tr>\n",
       "    <tr>\n",
       "      <th>1</th>\n",
       "      <td>INFO</td>\n",
       "      <td>NORMAL-TOKEN-TRANSFERS-TX</td>\n",
       "      <td>157763</td>\n",
       "      <td>99.469749</td>\n",
       "    </tr>\n",
       "    <tr>\n",
       "      <th>2</th>\n",
       "      <td>LOW</td>\n",
       "      <td>INVALID-TOKEN-TRANSFERS-TX</td>\n",
       "      <td>252</td>\n",
       "      <td>0.158886</td>\n",
       "    </tr>\n",
       "  </tbody>\n",
       "</table>\n",
       "</div>"
      ],
      "text/plain": [
       "   severity                       alertId  hash_count  percentage\n",
       "0  CRITICAL  ANOMALOUS-TOKEN-TRANSFERS-TX         589    0.371365\n",
       "1      INFO     NORMAL-TOKEN-TRANSFERS-TX      157763   99.469749\n",
       "2       LOW    INVALID-TOKEN-TRANSFERS-TX         252    0.158886"
      ]
     },
     "execution_count": 64,
     "metadata": {},
     "output_type": "execute_result"
    }
   ],
   "source": [
    "severity_level"
   ]
  },
  {
   "cell_type": "markdown",
   "id": "edf0310e-d889-4764-9ce9-ca43546e2152",
   "metadata": {},
   "source": [
    "**Anomaly Rate** = `0.3714%`\n",
    "\n",
    "**Model Input Generation Issues** = `0.1589%`"
   ]
  },
  {
   "cell_type": "markdown",
   "id": "5e17303c-c3ba-41ac-acd9-9b64becbc593",
   "metadata": {},
   "source": [
    "## Alert Time Series by Severity"
   ]
  },
  {
   "cell_type": "code",
   "execution_count": 65,
   "id": "671dabed-88a9-4c4b-8720-e19dc0e815bf",
   "metadata": {},
   "outputs": [
    {
     "data": {
      "image/png": "[encoded data removed]",
      "text/plain": [
       "<Figure size 432x288 with 1 Axes>"
      ]
     },
     "metadata": {
      "needs_background": "light"
     },
     "output_type": "display_data"
    }
   ],
   "source": [
    "import numpy as np\n",
    "import matplotlib.pyplot as plt\n",
    "plt.style.use('seaborn-deep')\n",
    "\n",
    "anomalous_alerts = df[df['severity'] == 'CRITICAL']['source.block.number']\n",
    "model_input_issue_alerts = df[df['severity'] == 'LOW']['source.block.number']\n",
    "normal_tx_alerts = df[df['severity'] == 'INFO']['source.block.number']\n",
    "\n",
    "plt.hist([anomalous_alerts, model_input_issue_alerts, normal_tx_alerts],\n",
    "         label=['ANOMALOUS-TOKEN-TRANSFERS-TX', 'INVALID-TOKEN-TRANSFERS-TX', 'NORMAL-TOKEN-TRANSFERS-TX'],\n",
    "         color=['red', 'orange', 'blue'])\n",
    "plt.legend(loc='upper right')\n",
    "plt.show()"
   ]
  },
  {
   "cell_type": "markdown",
   "id": "4b8b5319-3570-4add-8a44-219d6842c13b",
   "metadata": {},
   "source": [
    "## Anomaly Rate Deviation Between Training and Production"
   ]
  },
  {
   "cell_type": "code",
   "execution_count": 66,
   "id": "45b3856b-6656-4603-a8b8-42c85ee68aad",
   "metadata": {},
   "outputs": [
    {
     "name": "stdout",
     "output_type": "stream",
     "text": [
      "There's a -4.040010069770901% deviation of anomaly rate from training to production\n"
     ]
    }
   ],
   "source": [
    "TRAINING_ANOMALY_RATE = 0.387\n",
    "PRODUCTION_ANOMALY_RATE = severity_level[severity_level['alertId'] == 'ANOMALOUS-TOKEN-TRANSFERS-TX']['percentage'].values[0]\n",
    "\n",
    "deviation = ((PRODUCTION_ANOMALY_RATE - TRAINING_ANOMALY_RATE) / TRAINING_ANOMALY_RATE) * 100.0\n",
    "print(f\"There's a {deviation}% deviation of anomaly rate from training to production\")"
   ]
  },
  {
   "cell_type": "markdown",
   "id": "599035fe-ecbc-4e7d-b0d7-b6eec3db30e9",
   "metadata": {},
   "source": [
    "## Anomaly Score Distribution\n",
    "\n",
    "The above deviation can be reduced by tweaking the model's `ANOMALY_THRESHOLD`. "
   ]
  },
  {
   "cell_type": "code",
   "execution_count": 67,
   "id": "83f891f1-4130-4005-a15e-71da3d37220b",
   "metadata": {},
   "outputs": [],
   "source": [
    "df['metadata.anomalyScore'] = df['metadata.anomalyScore'].astype(float)\n",
    "anomalies = df[df['alertId'] == 'ANOMALOUS-TOKEN-TRANSFERS-TX']"
   ]
  },
  {
   "cell_type": "code",
   "execution_count": 68,
   "id": "e717b1b6-1bde-4c5d-8fc8-5dda97e5ab30",
   "metadata": {},
   "outputs": [
    {
     "data": {
      "text/plain": [
       "<AxesSubplot:>"
      ]
     },
     "execution_count": 68,
     "metadata": {},
     "output_type": "execute_result"
    },
    {
     "data": {
      "image/png": "[encoded data removed]",
      "text/plain": [
       "<Figure size 432x288 with 1 Axes>"
      ]
     },
     "metadata": {
      "needs_background": "light"
     },
     "output_type": "display_data"
    }
   ],
   "source": [
    "anomalies['metadata.anomalyScore'].hist()"
   ]
  },
  {
   "cell_type": "code",
   "execution_count": 75,
   "id": "4a1bb656-f158-48f5-b941-8abc88baea5f",
   "metadata": {},
   "outputs": [
    {
     "name": "stdout",
     "output_type": "stream",
     "text": [
      "An `ANOMALY_THRESHOLD` set to 0.499 can adjust the production anomaly rate to 0.3814531789866586%.\n"
     ]
    }
   ],
   "source": [
    "# increasing the threshold = lower anomaly rate\n",
    "# decreasing the threshold = higher anomaly rate\n",
    "NEW_ANOMALY_THRESHOLD = 0.499\n",
    "new_anomaly_count = (df['metadata.anomalyScore'] >= NEW_ANOMALY_THRESHOLD).value_counts()[1]\n",
    "new_anomaly_rate = (new_anomaly_count / TOTAL_ALERTS) * 100\n",
    "\n",
    "print(f\"An `ANOMALY_THRESHOLD` set to {NEW_ANOMALY_THRESHOLD} can adjust the production anomaly rate to {new_anomaly_rate}%.\")"
   ]
  },
  {
   "cell_type": "markdown",
   "id": "daf4ae3e-c0a2-4849-956e-69f8f4916e62",
   "metadata": {},
   "source": [
    "If this new anomaly threshold is preferred, don't forget to update it in the detection bot and re-deploy the bot. "
   ]
  },
  {
   "cell_type": "markdown",
   "id": "0614e1bb-20fe-40d4-9715-dfb40980cb8f",
   "metadata": {},
   "source": [
    "## Top 5 transactions with the highest anomaly score"
   ]
  },
  {
   "cell_type": "code",
   "execution_count": 70,
   "id": "7d4cc9ea-3a4f-47a4-9742-56be66f0ef47",
   "metadata": {},
   "outputs": [],
   "source": [
    "pd.set_option('max_colwidth', None)"
   ]
  },
  {
   "cell_type": "code",
   "execution_count": 71,
   "id": "bb1c7dac-3e48-4c82-b839-af03c6d83e99",
   "metadata": {},
   "outputs": [
    {
     "data": {
      "text/html": [
       "<div>\n",
       "<style scoped>\n",
       "    .dataframe tbody tr th:only-of-type {\n",
       "        vertical-align: middle;\n",
       "    }\n",
       "\n",
       "    .dataframe tbody tr th {\n",
       "        vertical-align: top;\n",
       "    }\n",
       "\n",
       "    .dataframe thead th {\n",
       "        text-align: right;\n",
       "    }\n",
       "</style>\n",
       "<table border=\"1\" class=\"dataframe\">\n",
       "  <thead>\n",
       "    <tr style=\"text-align: right;\">\n",
       "      <th></th>\n",
       "      <th>source.transactionHash</th>\n",
       "      <th>metadata.anomalyScore</th>\n",
       "    </tr>\n",
       "  </thead>\n",
       "  <tbody>\n",
       "    <tr>\n",
       "      <th>21484</th>\n",
       "      <td>0x6b1e11fdbb209b3af30fbc4f2e474566a89bc5cda12948291907640ce028c202</td>\n",
       "      <td>0.727</td>\n",
       "    </tr>\n",
       "    <tr>\n",
       "      <th>17779</th>\n",
       "      <td>0x1bfdbf1ca12fff416b205a4c4be25612b38e70855471c824b9c228fc3fa9351a</td>\n",
       "      <td>0.722</td>\n",
       "    </tr>\n",
       "    <tr>\n",
       "      <th>56194</th>\n",
       "      <td>0x88c9738e5eefc9912b4bc43fab4cdff1e2da862c799a417968952079d76366e4</td>\n",
       "      <td>0.720</td>\n",
       "    </tr>\n",
       "    <tr>\n",
       "      <th>98421</th>\n",
       "      <td>0x4025c8b6c6975be1932428866dc3e352446cddaf4c23a864b0607e21a790af6e</td>\n",
       "      <td>0.716</td>\n",
       "    </tr>\n",
       "    <tr>\n",
       "      <th>47548</th>\n",
       "      <td>0x75b83ba93d1331fc01751ff5cf7d595e85a8a906bfc9797928d3af762f543840</td>\n",
       "      <td>0.712</td>\n",
       "    </tr>\n",
       "  </tbody>\n",
       "</table>\n",
       "</div>"
      ],
      "text/plain": [
       "                                                   source.transactionHash  \\\n",
       "21484  0x6b1e11fdbb209b3af30fbc4f2e474566a89bc5cda12948291907640ce028c202   \n",
       "17779  0x1bfdbf1ca12fff416b205a4c4be25612b38e70855471c824b9c228fc3fa9351a   \n",
       "56194  0x88c9738e5eefc9912b4bc43fab4cdff1e2da862c799a417968952079d76366e4   \n",
       "98421  0x4025c8b6c6975be1932428866dc3e352446cddaf4c23a864b0607e21a790af6e   \n",
       "47548  0x75b83ba93d1331fc01751ff5cf7d595e85a8a906bfc9797928d3af762f543840   \n",
       "\n",
       "       metadata.anomalyScore  \n",
       "21484                  0.727  \n",
       "17779                  0.722  \n",
       "56194                  0.720  \n",
       "98421                  0.716  \n",
       "47548                  0.712  "
      ]
     },
     "execution_count": 71,
     "metadata": {},
     "output_type": "execute_result"
    }
   ],
   "source": [
    "anomalies.sort_values('metadata.anomalyScore', ascending=False)[['source.transactionHash', 'metadata.anomalyScore']].head(5)"
   ]
  },
  {
   "cell_type": "markdown",
   "id": "47cbc129-8981-473a-a832-174141dcd7ff",
   "metadata": {},
   "source": [
    "Transaction `0x6b1e11fdbb209b3af30fbc4f2e474566a89bc5cda12948291907640ce028c202` on Etherscan: [link](https://etherscan.io/tx/0x6b1e11fdbb209b3af30fbc4f2e474566a89bc5cda12948291907640ce028c202)"
   ]
  }
 ],
 "metadata": {
  "kernelspec": {
   "display_name": "Python 3 (ipykernel)",
   "language": "python",
   "name": "python3"
  },
  "language_info": {
   "codemirror_mode": {
    "name": "ipython",
    "version": 3
   },
   "file_extension": ".py",
   "mimetype": "text/x-python",
   "name": "python",
   "nbconvert_exporter": "python",
   "pygments_lexer": "ipython3",
   "version": "3.8.12"
  }
 },
 "nbformat": 4,
 "nbformat_minor": 5
}
