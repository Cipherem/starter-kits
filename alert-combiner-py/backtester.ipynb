{
 "cells": [
  {
   "cell_type": "code",
   "execution_count": 5,
   "metadata": {},
   "outputs": [
    {
     "data": {
      "text/plain": [
       "True"
      ]
     },
     "execution_count": 5,
     "metadata": {},
     "output_type": "execute_result"
    }
   ],
   "source": [
    "# Copyright 2022 The Forta Foundation\n",
    " \n",
    "import requests\n",
    "import pandas as pd\n",
    "import json\n",
    "import dotenv\n",
    "import os\n",
    "\n",
    "# Load environment variables\n",
    "dotenv.load_dotenv()"
   ]
  },
  {
   "cell_type": "code",
   "execution_count": 6,
   "metadata": {},
   "outputs": [],
   "source": [
    "def execute_query(sql: str) -> pd.DataFrame:\n",
    "        url = \"https://q.luabase.com/run\"\n",
    "        payload = {\"block\":\n",
    "                   {\"details\": {\n",
    "                    \"sql\": sql,\n",
    "                    }\n",
    "                    },\n",
    "                   \"api_key\": os.environ.get('LUABASE_API_KEY')\n",
    "                   }\n",
    "\n",
    "        headers = {\"content-type\": \"application/json\"}\n",
    "        response = requests.request(\"POST\", url, json=payload, headers=headers, timeout=600)  # 10min timeout\n",
    "        \n",
    "        data = response.json()\n",
    "        \n",
    "        print(data)\n",
    "        return pd.DataFrame(data[\"data\"])"
   ]
  },
  {
   "attachments": {},
   "cell_type": "markdown",
   "metadata": {},
   "source": [
    "This notebook allows to backtest the attack detector V2 against a set of alerts. Independent of the threshold set within the bot, the log will be analyzed, so the relevant alerts, their anomaly score, overall anomaly score, and any FP filtering mitigations are shown.\n",
    "\n",
    "Since there is a command line character limit, the local persistence mechanism needs to be enabled to persist state across executions (by setting local node property in constants.py to 1)"
   ]
  },
  {
   "cell_type": "code",
   "execution_count": 7,
   "metadata": {},
   "outputs": [],
   "source": [
    "start_date = \"2022-12-01\" #when the attack detector first started to operate\n",
    "\n",
    "# attacker_addresses = \"0xf3a465c9fa6663ff50794c698f600faa4b05c777,0x2ffc59d32a524611bb891cab759112a51f9e33c0\" #comma separated list of attacker addresses (note, while all alerts from those addresses are pushed to the attack detector, one should check the clustering bot to see whether they are clustered together)\n",
    "# chain = \"ethereum\" #ethereum or binance \n",
    "# name = \"ANKR\"\n",
    "# end_date = \"2022-12-04\" #should be the date of the attack\n",
    "\n",
    "start_date = \"2023-01-10\" #when the attack detector first started to operate\n",
    "attacker_addresses = \"0x9d0163e76bbcf776001e639d65f573949a53ab03\"\n",
    "chain = \"ethereum\" #ethereum or binance \n",
    "name = \"Lend Hub\"\n",
    "end_date = \"2023-01-14\" #should be the date of the attack\n",
    "\n",
    "# attacker_addresses = \"0x0348d20b74ddc0ac9bfc3626e06d30bb6fac213b\"\n",
    "# chain = \"ethereum\" #ethereum or binance \n",
    "# name = \"JayExploiter\"\n",
    "# end_date = \"2022-12-31\" #should be the date of the attack\n",
    "\n",
    "# attacker_addresses = \"0x001B91c794dFEecf00124D3F9525DD32870B6ee9\" #comma separated list of attacker addresses (note, while all alerts from those addresses are pushed to the attack detector, one should check the clustering bot to see whether they are clustered together)\n",
    "# chain = \"ethereum\" #ethereum or binance \n",
    "# name = \"CryptoRubric\"\n",
    "# end_date = \"2022-12-28\" #should be the date of the attack\n",
    "\n",
    "# attacker_addresses = \"0x3bdF01ed32F07e8e843163b5d478d4502F5743CD,0x25fDe76A52D01c83E31d2d3D5e1d2011ff103c56,0xBeAdeDBABED6A353c9cAa4894Aa7E5F883e32967\" #comma separated list of attacker addresses (note, while all alerts from those addresses are pushed to the attack detector, one should check the clustering bot to see whether they are clustered together)\n",
    "# chain = \"ethereum\" #ethereum or binance \n",
    "# name = \"ElasticSwap\"\n",
    "# start_date = \"2022-11-30\" #when the attack detector first started to operate\n",
    "# end_date = \"2022-12-15\" #should be the date of the attack\n",
    "\n",
    "# attacker_addresses = \"0x86Aa1c46f2Ae35ba1B228dC69fB726813D95b597,0x3c4e5b099f3c02122079d124138377e1b9048629\" #comma separated list of attacker addresses (note, while all alerts from those addresses are pushed to the attack detector, one should check the clustering bot to see whether they are clustered together)\n",
    "# chain = \"binance\" #ethereum or binance \n",
    "# name = \"Nimbus\"\n",
    "# end_date = \"2022-12-15\" #should be the date of the attack\n",
    "\n",
    "# attacker_addresses = \"0xF4FD2EbE7196c8E99E88bcc4Aef69dda0e493B8F\" #comma separated list of attacker addresses (note, while all alerts from those addresses are pushed to the attack detector, one should check the clustering bot to see whether they are clustered together)\n",
    "# chain = \"binance\" #ethereum or binance \n",
    "# name = \"BlackGold\"\n",
    "# end_date = \"2022-12-15\" #should be the date of the attack\n",
    "\n",
    "# attacker_addresses = \"0x286E09932B8D096cbA3423d12965042736b8F850\" #comma separated list of attacker addresses (note, while all alerts from those addresses are pushed to the attack detector, one should check the clustering bot to see whether they are clustered together)\n",
    "# chain = \"binance\" #ethereum or binance \n",
    "# name = \"aespool\"\n",
    "# end_date = \"2022-12-17\" #should be the date of the attack\n",
    "\n",
    "# attacker_addresses = \"0xf71708C59be7e32B9FF2aa174F07311869C6bf0c\" #comma separated list of attacker addresses (note, while all alerts from those addresses are pushed to the attack detector, one should check the clustering bot to see whether they are clustered together)\n",
    "# chain = \"binance\" #ethereum or binance \n",
    "# name = \"optionroom\"\n",
    "# end_date = \"2022-12-17\" #should be the date of the attack\n",
    "\n",
    "\n"
   ]
  },
  {
   "cell_type": "code",
   "execution_count": 11,
   "metadata": {},
   "outputs": [
    {
     "name": "stdout",
     "output_type": "stream",
     "text": [
      "SELECT metadata FROM forta.ethereum_alerts WHERE bot_id = '0xd3061db4662d5b3406b52b20f34234e462d2c275b99414d76dc644e2486be3e9' and CAST(substring(block_timestamp,1,19) as datetime)  >= '2022-10-01T00:00:00' AND CAST(substring(block_timestamp,1,19)  as datetime)  <= '2022-12-31T00:00:00' and  lower(arrayStringConcat(metadata)) like '%0x0348d20b74ddc0ac9bfc3626e06d30bb6fac213b%'\n",
      "{'data': [], 'ok': True, 'error': None, 'hit_max_row': False, 'rows': 0, 'meta': [{'name': 'metadata', 'type': 'Array(Map(String, Nullable(String)))'}], 'parameters': {}, 'start_time': '2023-01-03T20:21:48.887530+00:00', 'statistics': {'applied_limit': False, 'blocks': 0, 'bytes': 50168698136, 'calculated_rows_before_limit': 1, 'elapsed': 10.819, 'rows_before_limit': 0, 'rows': 332780521, 'total_rows': 332780521, 'written_bytes': 0, 'written_rows': 0}, 'time_elapsed': 10.983, 'trace': 'projects/luabase/traces/f2bac473d92408ac66d250fbdd77d98e'}\n",
      "Empty DataFrame\n",
      "Columns: []\n",
      "Index: []\n"
     ]
    }
   ],
   "source": [
    "#clustering\n",
    "for attacker_address in attacker_addresses.split(\",\"):\n",
    "    sql = f\"SELECT metadata FROM forta.{chain}_alerts WHERE bot_id = '0xd3061db4662d5b3406b52b20f34234e462d2c275b99414d76dc644e2486be3e9' and CAST(substring(block_timestamp,1,19) as datetime)  >= '2022-10-01T00:00:00' AND CAST(substring(block_timestamp,1,19)  as datetime)  <= '{end_date}T00:00:00' and  lower(arrayStringConcat(metadata)) like '%{attacker_address.lower()}%'\"\n",
    "    print(sql)\n",
    "    df = execute_query(sql)\n",
    "    print(df)"
   ]
  },
  {
   "cell_type": "code",
   "execution_count": 12,
   "metadata": {},
   "outputs": [
    {
     "name": "stdout",
     "output_type": "stream",
     "text": [
      "select alert_hash, block_timestamp FROM forta.ethereum_alerts WHERE CAST(substring(block_timestamp,1,19) as datetime)  >= '2022-12-01T00:00:00' AND CAST(substring(block_timestamp,1,19)  as datetime)  <= '2022-12-31T00:00:00' and lower(arrayStringConcat(addresses)) like '%0x0348d20b74ddc0ac9bfc3626e06d30bb6fac213b%'\n",
      "{'data': [{'alert_hash': '0xff69f9c5c89f024c04f55ff2b2f3bdee211899f9066b52f2d7a27f7da7b3a2c7', 'block_timestamp': '2022-12-29T05:12:59Z'}, {'alert_hash': '0xd9467c3fb4e8c32fd2a0da50aa7b27cc92329c65d1f6eba780112bc9d873a2f8', 'block_timestamp': '2022-12-29T04:53:11Z'}, {'alert_hash': '0xdca89c64c6199bd194b562ba9e9a63e4ec87abc37e6ec6c78248a7562b53e811', 'block_timestamp': '2022-12-29T05:12:59Z'}, {'alert_hash': '0xaadb449d22528e7552e514910aedd7280bacc5038ccf26bf679b17a443e27ac0', 'block_timestamp': '2022-12-29T04:53:11Z'}, {'alert_hash': '0xb917f5e7cc60395c7fb0b675ff4b1d65e3159a568c876069ffea49fe775414dd', 'block_timestamp': '2022-12-29T05:22:59Z'}, {'alert_hash': '0xfc4e405719de41311d9caa04c59e3d50df11a607ba45467dc82f5729b6f0dcab', 'block_timestamp': '2022-12-29T05:12:59Z'}, {'alert_hash': '0xce9be9acf3b747fad4f1f376c7105ceaa1ecbaeee4fc9c53af285994bc09ae2c', 'block_timestamp': '2022-12-29T05:11:59Z'}, {'alert_hash': '0x876bd7bc00d5ea1640fba3b99db56e545cfc7a1434404dbaa2ba9297eedaa724', 'block_timestamp': '2022-12-29T05:18:23Z'}, {'alert_hash': '0xa4e1b6cbf82a737d25dab7bf6103e4d26f848bb6725324cc10b6387474315363', 'block_timestamp': '2022-12-29T05:11:59Z'}, {'alert_hash': '0x07d23e5a5943618a21e8f83bc96d74c98d15309af7a5a0686c9392795841e471', 'block_timestamp': '2022-12-29T05:18:23Z'}, {'alert_hash': '0x8a838eb9a043923fddd06a23b17cea013c34d2e83c5ff9d8d31cf8afe7499ea7', 'block_timestamp': '2022-12-29T04:53:11Z'}, {'alert_hash': '0xc9e0642cf91d88c6a763eb70e55b5baf6f88005625e00b54e4d2ed2d21735c76', 'block_timestamp': '2022-12-29T04:53:11Z'}, {'alert_hash': '0x529026ae5c0af0fd2095a960a233513ead47b0d71166c43eb916cd72fe521488', 'block_timestamp': '2022-12-29T04:59:35Z'}, {'alert_hash': '0x4edecc47a727e349ba887f69b82324abab9f56791d50d7713ceaa9c5a3fb8235', 'block_timestamp': '2022-12-29T05:12:59Z'}, {'alert_hash': '0x4f7f9bf2755ed210ef993390bb72d053ff0bfaf712c2bdc44ac1846ce8d174ae', 'block_timestamp': '2022-12-29T05:14:59Z'}, {'alert_hash': '0xa1425d544dca4740974e8654810feda06beec6b2822d1bdcc9a1467159e87f8d', 'block_timestamp': '2022-12-29T05:09:59Z'}, {'alert_hash': '0xfb6ee36080ba75eaa433c65ec01b10b5a1219619909bfd66d4016a7aba638ead', 'block_timestamp': '2022-12-29T04:59:35Z'}, {'alert_hash': '0xff69f9c5c89f024c04f55ff2b2f3bdee211899f9066b52f2d7a27f7da7b3a2c7', 'block_timestamp': '2022-12-29T05:12:59Z'}, {'alert_hash': '0x6301d4371a79c4e3c82227c7a6268cbcdd47ff1b0a07fa4cc025f162a74b729c', 'block_timestamp': '2022-12-29T04:53:11Z'}, {'alert_hash': '0x263738988bda991d3d27193af417719f40302dbd45eda2cd5dcd997290125043', 'block_timestamp': '2022-12-29T05:02:23Z'}, {'alert_hash': '0xcb60175daa612a8df5953373ea55ebb53f3e1f39c408ba53bdf62f12ec7594e9', 'block_timestamp': '2022-12-29T05:02:47Z'}, {'alert_hash': '0xccd85cd78c72b8d343ecccf46be3e07b4b5492b95fc80ae49e900a1e7c9774bf', 'block_timestamp': '2022-12-29T05:09:59Z'}, {'alert_hash': '0x6301d4371a79c4e3c82227c7a6268cbcdd47ff1b0a07fa4cc025f162a74b729c', 'block_timestamp': '2022-12-29T04:53:11Z'}, {'alert_hash': '0x07d23e5a5943618a21e8f83bc96d74c98d15309af7a5a0686c9392795841e471', 'block_timestamp': '2022-12-29T05:18:23Z'}, {'alert_hash': '0x20e9333f1ae53ce016c422a084ad16bc9e23aec5007fe128a1a15bb23631ccc8', 'block_timestamp': '2022-12-29T04:59:35Z'}, {'alert_hash': '0x876bd7bc00d5ea1640fba3b99db56e545cfc7a1434404dbaa2ba9297eedaa724', 'block_timestamp': '2022-12-29T05:18:23Z'}, {'alert_hash': '0x753286154968dbf6bc25314811e4f316994da4c2262d14d07e697318284ab2ea', 'block_timestamp': '2022-12-29T04:59:35Z'}, {'alert_hash': '0xd8bfbc6cabb99a523088c3f32f8091855ea1638940a6a16ed908f8645ad54b2f', 'block_timestamp': '2022-12-29T05:11:59Z'}, {'alert_hash': '0x20e9333f1ae53ce016c422a084ad16bc9e23aec5007fe128a1a15bb23631ccc8', 'block_timestamp': '2022-12-29T04:59:35Z'}, {'alert_hash': '0x20e9333f1ae53ce016c422a084ad16bc9e23aec5007fe128a1a15bb23631ccc8', 'block_timestamp': '2022-12-29T04:59:35Z'}, {'alert_hash': '0x118bc76b9b8125bccceab42f10219e93f11665583f5afbc1d0e8115a9ee0aacf', 'block_timestamp': '2022-12-29T10:42:59Z'}, {'alert_hash': '0xaadb449d22528e7552e514910aedd7280bacc5038ccf26bf679b17a443e27ac0', 'block_timestamp': '2022-12-29T04:53:11Z'}, {'alert_hash': '0xd691409d05c7a1d178f814bd388884cd10401071c541525c5c72d4f61baadc56', 'block_timestamp': '2022-12-29T04:53:11Z'}, {'alert_hash': '0x529026ae5c0af0fd2095a960a233513ead47b0d71166c43eb916cd72fe521488', 'block_timestamp': '2022-12-29T04:59:35Z'}, {'alert_hash': '0x63538eae5474a7d66b8d2ef36191ecb5eff92fa46c132b6880e78b09c2e79cd1', 'block_timestamp': '2022-12-29T04:53:11Z'}, {'alert_hash': '0xeb38f64184ad202894d9e7c21420a258fc918f9efc526c4b440ebdbb5dbd3ac3', 'block_timestamp': '2022-12-29T05:02:23Z'}, {'alert_hash': '0xce9be9acf3b747fad4f1f376c7105ceaa1ecbaeee4fc9c53af285994bc09ae2c', 'block_timestamp': '2022-12-29T05:11:59Z'}, {'alert_hash': '0xb5adb60f97388cb91a3b45d1d76af4a952c2e2249d8b32eafcd7640ac96dfc8c', 'block_timestamp': '2022-12-29T05:18:23Z'}, {'alert_hash': '0x5ed2e4e79ccf77bea81bbcb0cc5243b5e41077f98e7dfcc7ac2d172372c8234b', 'block_timestamp': '2022-12-29T05:09:59Z'}, {'alert_hash': '0x5ed2e4e79ccf77bea81bbcb0cc5243b5e41077f98e7dfcc7ac2d172372c8234b', 'block_timestamp': '2022-12-29T05:09:59Z'}, {'alert_hash': '0xb4cf560a8ba65a45d5606910514c905e3d90800d5857b3ca4d818faf4ad16943', 'block_timestamp': '2022-12-29T05:02:23Z'}, {'alert_hash': '0x13ada90d3c511a89856fb2c0ab4ef2f2968703630f9d25cc12a34d6fe77e4e9b', 'block_timestamp': '2022-12-29T04:53:11Z'}, {'alert_hash': '0x609ee26b663b9ca112b7c5ebb09de4ccb0f355c3ab5b9ec8a775be848d1ad04c', 'block_timestamp': '2022-12-29T04:53:11Z'}, {'alert_hash': '0x66dba59d866c50c5ce7b06bb088575459d14a19438fbe4c72234f3f5e6b0ecd7', 'block_timestamp': '2022-12-29T05:18:23Z'}, {'alert_hash': '0x36903bb12a00134acf3889bf3240900f1d4b2a762ab203b24b10d1179fd0bd02', 'block_timestamp': '2022-12-29T05:09:59Z'}, {'alert_hash': '0x66dba59d866c50c5ce7b06bb088575459d14a19438fbe4c72234f3f5e6b0ecd7', 'block_timestamp': '2022-12-29T05:18:23Z'}, {'alert_hash': '0x85db72a221a5b5e4b35479745effed0588eef11b4941f67398e693105044fc13', 'block_timestamp': '2022-12-29T05:21:59Z'}, {'alert_hash': '0x964bea3cfe9712192d993c2f53b448d8d37a484787653f554210af43f31c8400', 'block_timestamp': '2022-12-29T04:59:35Z'}, {'alert_hash': '0x876bd7bc00d5ea1640fba3b99db56e545cfc7a1434404dbaa2ba9297eedaa724', 'block_timestamp': '2022-12-29T05:18:23Z'}, {'alert_hash': '0x876bd7bc00d5ea1640fba3b99db56e545cfc7a1434404dbaa2ba9297eedaa724', 'block_timestamp': '2022-12-29T05:18:23Z'}, {'alert_hash': '0x541c8d0d8afca15449db6a2befe0688f06e9c37f7e5544d8d8749852e4cf2ecd', 'block_timestamp': '2022-12-29T04:59:35Z'}, {'alert_hash': '0xa1425d544dca4740974e8654810feda06beec6b2822d1bdcc9a1467159e87f8d', 'block_timestamp': '2022-12-29T05:09:59Z'}, {'alert_hash': '0x6301d4371a79c4e3c82227c7a6268cbcdd47ff1b0a07fa4cc025f162a74b729c', 'block_timestamp': '2022-12-29T04:53:11Z'}, {'alert_hash': '0xede16d7663b34a0ae82fe6f74edf6041772dd08db225e5a9a7ebdf1e6dbf551c', 'block_timestamp': '2022-12-29T05:11:59Z'}, {'alert_hash': '0x753286154968dbf6bc25314811e4f316994da4c2262d14d07e697318284ab2ea', 'block_timestamp': '2022-12-29T04:59:35Z'}, {'alert_hash': '0xeb38f64184ad202894d9e7c21420a258fc918f9efc526c4b440ebdbb5dbd3ac3', 'block_timestamp': '2022-12-29T05:02:23Z'}, {'alert_hash': '0x71f9a7f3a0078bd5f8b1ad2296071938c35c6f5c43939b5f162ef8b36495ed73', 'block_timestamp': '2022-12-29T05:02:35Z'}, {'alert_hash': '0xdca89c64c6199bd194b562ba9e9a63e4ec87abc37e6ec6c78248a7562b53e811', 'block_timestamp': '2022-12-29T05:12:59Z'}, {'alert_hash': '0xf49388e40673b440270a27a6da9f54c410d32450f2e17a3cae0d1ec54b21187a', 'block_timestamp': '2022-12-29T05:02:23Z'}, {'alert_hash': '0xeb224481896d4c18e063ae466f1ba431ad87b571594456c78f10f16816d74b64', 'block_timestamp': '2022-12-29T04:53:11Z'}, {'alert_hash': '0x5a3340b0ad3a6143d14e5d6ce999f9b5cd2c864c7f3e4ea73aa0bccaa4122bc4', 'block_timestamp': '2022-12-29T05:11:59Z'}, {'alert_hash': '0xb5adb60f97388cb91a3b45d1d76af4a952c2e2249d8b32eafcd7640ac96dfc8c', 'block_timestamp': '2022-12-29T05:18:23Z'}, {'alert_hash': '0xccd85cd78c72b8d343ecccf46be3e07b4b5492b95fc80ae49e900a1e7c9774bf', 'block_timestamp': '2022-12-29T05:09:59Z'}, {'alert_hash': '0x263738988bda991d3d27193af417719f40302dbd45eda2cd5dcd997290125043', 'block_timestamp': '2022-12-29T05:02:23Z'}, {'alert_hash': '0x65c3f405ffc5a1fe2821dd45e21f325aaa2f69bb60ec3af777898ebe25095db4', 'block_timestamp': '2022-12-29T04:53:11Z'}, {'alert_hash': '0x77d772b4cdc5c484f94bf2783d1e3038e6b0bd7dc9c2b0ebbb27a0c7e06e6005', 'block_timestamp': '2022-12-29T05:12:11Z'}, {'alert_hash': '0x4edecc47a727e349ba887f69b82324abab9f56791d50d7713ceaa9c5a3fb8235', 'block_timestamp': '2022-12-29T05:12:59Z'}, {'alert_hash': '0x6743ff18c7dfc0edbe3d6f5f4fdf0e6d9c202f94f95bcafbe5b8f63f314a0d90', 'block_timestamp': '2022-12-29T04:53:11Z'}, {'alert_hash': '0xb5adb60f97388cb91a3b45d1d76af4a952c2e2249d8b32eafcd7640ac96dfc8c', 'block_timestamp': '2022-12-29T05:18:23Z'}, {'alert_hash': '0x4826b44f744bd85746062dd69c0ea7cd7dba7a53b7e6201b788ce51e21334ea9', 'block_timestamp': '2022-12-29T05:09:59Z'}], 'ok': True, 'error': None, 'hit_max_row': False, 'rows': 70, 'meta': [{'name': 'alert_hash', 'type': 'Nullable(String)'}, {'name': 'block_timestamp', 'type': 'Nullable(String)'}], 'parameters': {}, 'start_time': '2023-01-03T20:22:08.194628+00:00', 'statistics': {'applied_limit': False, 'blocks': 64, 'bytes': 50478156286, 'calculated_rows_before_limit': 1, 'elapsed': 21.357, 'rows_before_limit': 0, 'rows': 332780521, 'total_rows': 332780521, 'written_bytes': 0, 'written_rows': 0}, 'time_elapsed': 21.385, 'trace': 'projects/luabase/traces/469134c3a556ade722bd27c2029f57ff'}\n"
     ]
    },
    {
     "data": {
      "text/plain": [
       "70"
      ]
     },
     "execution_count": 12,
     "metadata": {},
     "output_type": "execute_result"
    }
   ],
   "source": [
    "alert_hashes_df = pd.DataFrame(columns=[\"alert_hash\",\"block_timestamp\"])\n",
    "for attacker_address in attacker_addresses.split(\",\"):\n",
    "    sql = f\"select alert_hash, block_timestamp FROM forta.{chain}_alerts WHERE CAST(substring(block_timestamp,1,19) as datetime)  >= '{start_date}T00:00:00' AND CAST(substring(block_timestamp,1,19)  as datetime)  <= '{end_date}T00:00:00' and lower(arrayStringConcat(addresses)) like '%{attacker_address.lower()}%'\"\n",
    "    print(sql)\n",
    "    df = execute_query(sql)\n",
    "    alert_hashes_df = pd.concat([alert_hashes_df, df])\n",
    "\n",
    "len(alert_hashes_df)"
   ]
  },
  {
   "cell_type": "code",
   "execution_count": 13,
   "metadata": {},
   "outputs": [
    {
     "data": {
      "text/html": [
       "<div>\n",
       "<style scoped>\n",
       "    .dataframe tbody tr th:only-of-type {\n",
       "        vertical-align: middle;\n",
       "    }\n",
       "\n",
       "    .dataframe tbody tr th {\n",
       "        vertical-align: top;\n",
       "    }\n",
       "\n",
       "    .dataframe thead th {\n",
       "        text-align: right;\n",
       "    }\n",
       "</style>\n",
       "<table border=\"1\" class=\"dataframe\">\n",
       "  <thead>\n",
       "    <tr style=\"text-align: right;\">\n",
       "      <th></th>\n",
       "      <th>alert_hash</th>\n",
       "      <th>block_timestamp</th>\n",
       "    </tr>\n",
       "  </thead>\n",
       "  <tbody>\n",
       "    <tr>\n",
       "      <th>0</th>\n",
       "      <td>0xff69f9c5c89f024c04f55ff2b2f3bdee211899f9066b...</td>\n",
       "      <td>2022-12-29T05:12:59Z</td>\n",
       "    </tr>\n",
       "    <tr>\n",
       "      <th>1</th>\n",
       "      <td>0xd9467c3fb4e8c32fd2a0da50aa7b27cc92329c65d1f6...</td>\n",
       "      <td>2022-12-29T04:53:11Z</td>\n",
       "    </tr>\n",
       "    <tr>\n",
       "      <th>2</th>\n",
       "      <td>0xdca89c64c6199bd194b562ba9e9a63e4ec87abc37e6e...</td>\n",
       "      <td>2022-12-29T05:12:59Z</td>\n",
       "    </tr>\n",
       "    <tr>\n",
       "      <th>3</th>\n",
       "      <td>0xaadb449d22528e7552e514910aedd7280bacc5038ccf...</td>\n",
       "      <td>2022-12-29T04:53:11Z</td>\n",
       "    </tr>\n",
       "    <tr>\n",
       "      <th>4</th>\n",
       "      <td>0xb917f5e7cc60395c7fb0b675ff4b1d65e3159a568c87...</td>\n",
       "      <td>2022-12-29T05:22:59Z</td>\n",
       "    </tr>\n",
       "    <tr>\n",
       "      <th>...</th>\n",
       "      <td>...</td>\n",
       "      <td>...</td>\n",
       "    </tr>\n",
       "    <tr>\n",
       "      <th>65</th>\n",
       "      <td>0x77d772b4cdc5c484f94bf2783d1e3038e6b0bd7dc9c2...</td>\n",
       "      <td>2022-12-29T05:12:11Z</td>\n",
       "    </tr>\n",
       "    <tr>\n",
       "      <th>66</th>\n",
       "      <td>0x4edecc47a727e349ba887f69b82324abab9f56791d50...</td>\n",
       "      <td>2022-12-29T05:12:59Z</td>\n",
       "    </tr>\n",
       "    <tr>\n",
       "      <th>67</th>\n",
       "      <td>0x6743ff18c7dfc0edbe3d6f5f4fdf0e6d9c202f94f95b...</td>\n",
       "      <td>2022-12-29T04:53:11Z</td>\n",
       "    </tr>\n",
       "    <tr>\n",
       "      <th>68</th>\n",
       "      <td>0xb5adb60f97388cb91a3b45d1d76af4a952c2e2249d8b...</td>\n",
       "      <td>2022-12-29T05:18:23Z</td>\n",
       "    </tr>\n",
       "    <tr>\n",
       "      <th>69</th>\n",
       "      <td>0x4826b44f744bd85746062dd69c0ea7cd7dba7a53b7e6...</td>\n",
       "      <td>2022-12-29T05:09:59Z</td>\n",
       "    </tr>\n",
       "  </tbody>\n",
       "</table>\n",
       "<p>70 rows × 2 columns</p>\n",
       "</div>"
      ],
      "text/plain": [
       "                                           alert_hash       block_timestamp\n",
       "0   0xff69f9c5c89f024c04f55ff2b2f3bdee211899f9066b...  2022-12-29T05:12:59Z\n",
       "1   0xd9467c3fb4e8c32fd2a0da50aa7b27cc92329c65d1f6...  2022-12-29T04:53:11Z\n",
       "2   0xdca89c64c6199bd194b562ba9e9a63e4ec87abc37e6e...  2022-12-29T05:12:59Z\n",
       "3   0xaadb449d22528e7552e514910aedd7280bacc5038ccf...  2022-12-29T04:53:11Z\n",
       "4   0xb917f5e7cc60395c7fb0b675ff4b1d65e3159a568c87...  2022-12-29T05:22:59Z\n",
       "..                                                ...                   ...\n",
       "65  0x77d772b4cdc5c484f94bf2783d1e3038e6b0bd7dc9c2...  2022-12-29T05:12:11Z\n",
       "66  0x4edecc47a727e349ba887f69b82324abab9f56791d50...  2022-12-29T05:12:59Z\n",
       "67  0x6743ff18c7dfc0edbe3d6f5f4fdf0e6d9c202f94f95b...  2022-12-29T04:53:11Z\n",
       "68  0xb5adb60f97388cb91a3b45d1d76af4a952c2e2249d8b...  2022-12-29T05:18:23Z\n",
       "69  0x4826b44f744bd85746062dd69c0ea7cd7dba7a53b7e6...  2022-12-29T05:09:59Z\n",
       "\n",
       "[70 rows x 2 columns]"
      ]
     },
     "execution_count": 13,
     "metadata": {},
     "output_type": "execute_result"
    }
   ],
   "source": [
    "alert_hashes_df"
   ]
  },
  {
   "cell_type": "code",
   "execution_count": 17,
   "metadata": {},
   "outputs": [],
   "source": [
    "#remove all _key files (L2 cache)\n",
    "!echo 'output.txt' > {name}.txt\n",
    "\n",
    "#run npm run to get and route to output.txt\n",
    "count = 0\n",
    "alert_hashes = \"\"\n",
    "for alert_hash in alert_hashes_df[\"alert_hash\"]:\n",
    "    count += 1\n",
    "    alert_hashes += f\",{alert_hash}\"\n",
    "    if count % 90 == 0:\n",
    "        !npm run alert {alert_hashes} >> {name}.txt 2>> {name}.txt\n",
    "        alert_hashes = \"\"\n",
    "if count % 90 != 0:\n",
    "    !npm run alert {alert_hashes} >> {name}.txt 2>> {name}.txt\n",
    "\n"
   ]
  },
  {
   "cell_type": "code",
   "execution_count": 18,
   "metadata": {},
   "outputs": [
    {
     "name": "stdout",
     "output_type": "stream",
     "text": [
      "2023-01-03 13:13:04,642 - root - ERROR - Failed to populate denominator cache for 1 contract-interactions 2022-12-27 21:02:23 2022-12-28 21:02:23: HTTPSConnectionPool(host='q.luabase.com', port=443): Read timed out.\n",
      "ERROR: RangeError: Invalid string length\n"
     ]
    }
   ],
   "source": [
    "!grep 'ERROR' {name}.txt\n"
   ]
  },
  {
   "cell_type": "code",
   "execution_count": 19,
   "metadata": {},
   "outputs": [
    {
     "name": "stdout",
     "output_type": "stream",
     "text": [
      "2023-01-03 13:13:25,616 - root - WARNING - Exception in get_denominator Denominator not found for 1 contract-interactions 2022-12-27 21:02:23 2022-12-28 21:02:23 in cache\n"
     ]
    }
   ],
   "source": [
    "!grep 'WARN' {name}.txt"
   ]
  },
  {
   "cell_type": "code",
   "execution_count": 20,
   "metadata": {},
   "outputs": [],
   "source": [
    "!grep 'adding cluster mapping' {name}.txt"
   ]
  },
  {
   "cell_type": "code",
   "execution_count": 21,
   "metadata": {},
   "outputs": [
    {
     "name": "stdout",
     "output_type": "stream",
     "text": [
      "2023-01-03 13:13:48,123 - root - INFO - alert 0x65c3f405ffc5a1fe2821dd45e21f325aaa2f69bb60ec3af777898ebe25095db4 adding FP mitigation cluster: 0x12d92fed171f16b3a05acb1542b40648e7ced384. FP mitigation clusters size now: 0\n"
     ]
    }
   ],
   "source": [
    "!grep 'adding FP mitigation cluster' {name}.txt"
   ]
  },
  {
   "cell_type": "code",
   "execution_count": 22,
   "metadata": {},
   "outputs": [
    {
     "name": "stdout",
     "output_type": "stream",
     "text": [
      "2023-01-03 12:58:35,559 - root - INFO - alert 0x529026ae5c0af0fd2095a960a233513ead47b0d71166c43eb916cd72fe521488 0x0b241032ca430d9c02eaa6a52d217bbff046f0d1b3f3d2aa928e42a97150ec91 SUSPICIOUS-CONTRACT-CREATION Preparation: 0x0348d20b74ddc0ac9bfc3626e06d30bb6fac213b anomaly score of 0.07766212970376302\n",
      "2023-01-03 13:02:02,267 - root - INFO - alert 0x6301d4371a79c4e3c82227c7a6268cbcdd47ff1b0a07fa4cc025f162a74b729c 0xa91a31df513afff32b9d85a2c2b7e786fdd681b3cdd8d93d6074943ba31ae400 FUNDING-TORNADO-CASH Funding: 0x12d92fed171f16b3a05acb1542b40648e7ced384 anomaly score of 4.2028847072308724e-05\n",
      "2023-01-03 13:02:02,981 - root - INFO - alert 0x6301d4371a79c4e3c82227c7a6268cbcdd47ff1b0a07fa4cc025f162a74b729c 0xa91a31df513afff32b9d85a2c2b7e786fdd681b3cdd8d93d6074943ba31ae400 FUNDING-TORNADO-CASH Funding: 0x0348d20b74ddc0ac9bfc3626e06d30bb6fac213b anomaly score of 4.2028847072308724e-05\n",
      "2023-01-03 13:02:49,528 - root - INFO - alert 0xcb60175daa612a8df5953373ea55ebb53f3e1f39c408ba53bdf62f12ec7594e9 0xbc06a40c341aa1acc139c900fd1b7e3999d71b80c13a9dd50a369d8f923757f5 FLASHBOTS-TRANSACTIONS Exploitation: 0x0348d20b74ddc0ac9bfc3626e06d30bb6fac213b anomaly score of 0.015248082997344469\n",
      "2023-01-03 13:02:49,540 - root - INFO - Have sufficient number of alerts for 0x0348d20b74ddc0ac9bfc3626e06d30bb6fac213b. Overall anomaly score is 4.9770501840514307e-08, 3 stages.\n",
      "2023-01-03 13:02:49,543 - root - INFO - 0x0348d20b74ddc0ac9bfc3626e06d30bb6fac213b anomaly scores               anomaly_score\n",
      "  \"description\": \"0x0348d20b74ddc0ac9bfc3626e06d30bb6fac213b likely involved in an attack (0xcb60175daa612a8df5953373ea55ebb53f3e1f39c408ba53bdf62f12ec7594e9). Anomaly score: {'anomaly_score': 4.9770501840514307e-08}\",\n",
      "    \"anomaly_score\": 4.9770501840514307e-8,\n",
      "2023-01-03 13:02:50,944 - root - INFO - alert 0x6301d4371a79c4e3c82227c7a6268cbcdd47ff1b0a07fa4cc025f162a74b729c 0xa91a31df513afff32b9d85a2c2b7e786fdd681b3cdd8d93d6074943ba31ae400 FUNDING-TORNADO-CASH Funding: 0x12d92fed171f16b3a05acb1542b40648e7ced384 anomaly score of 4.2028847072308724e-05\n",
      "2023-01-03 13:02:50,946 - root - INFO - alert 0x6301d4371a79c4e3c82227c7a6268cbcdd47ff1b0a07fa4cc025f162a74b729c 0xa91a31df513afff32b9d85a2c2b7e786fdd681b3cdd8d93d6074943ba31ae400 FUNDING-TORNADO-CASH Funding: 0x0348d20b74ddc0ac9bfc3626e06d30bb6fac213b anomaly score of 4.2028847072308724e-05\n",
      "2023-01-03 13:02:50,950 - root - INFO - Have sufficient number of alerts for 0x0348d20b74ddc0ac9bfc3626e06d30bb6fac213b. Overall anomaly score is 4.9770501840514307e-08, 3 stages.\n",
      "2023-01-03 13:02:50,952 - root - INFO - 0x0348d20b74ddc0ac9bfc3626e06d30bb6fac213b anomaly scores               anomaly_score\n",
      "2023-01-03 13:02:58,619 - root - INFO - alert 0x529026ae5c0af0fd2095a960a233513ead47b0d71166c43eb916cd72fe521488 0x0b241032ca430d9c02eaa6a52d217bbff046f0d1b3f3d2aa928e42a97150ec91 SUSPICIOUS-CONTRACT-CREATION Preparation: 0x0348d20b74ddc0ac9bfc3626e06d30bb6fac213b anomaly score of 0.07766212970376302\n",
      "2023-01-03 13:02:58,627 - root - INFO - Have sufficient number of alerts for 0x0348d20b74ddc0ac9bfc3626e06d30bb6fac213b. Overall anomaly score is 4.9770501840514307e-08, 3 stages.\n",
      "2023-01-03 13:02:58,630 - root - INFO - 0x0348d20b74ddc0ac9bfc3626e06d30bb6fac213b anomaly scores               anomaly_score\n",
      "2023-01-03 13:13:37,986 - root - INFO - alert 0x964bea3cfe9712192d993c2f53b448d8d37a484787653f554210af43f31c8400 0x457aa09ca38d60410c8ffa1761f535f23959195a56c9b82e0207801e86b34d99 SUSPICIOUS-CONTRACT-CREATION-TORNADO-CASH Preparation: 0x0348d20b74ddc0ac9bfc3626e06d30bb6fac213b anomaly score of 0.0008006405124099279\n",
      "2023-01-03 13:13:37,993 - root - INFO - Have sufficient number of alerts for 0x0348d20b74ddc0ac9bfc3626e06d30bb6fac213b. Overall anomaly score is 5.130979571187041e-10, 3 stages.\n",
      "2023-01-03 13:13:37,995 - root - INFO - 0x0348d20b74ddc0ac9bfc3626e06d30bb6fac213b anomaly scores               anomaly_score\n",
      "2023-01-03 13:13:39,169 - root - INFO - alert 0x6301d4371a79c4e3c82227c7a6268cbcdd47ff1b0a07fa4cc025f162a74b729c 0xa91a31df513afff32b9d85a2c2b7e786fdd681b3cdd8d93d6074943ba31ae400 FUNDING-TORNADO-CASH Funding: 0x12d92fed171f16b3a05acb1542b40648e7ced384 anomaly score of 4.2028847072308724e-05\n",
      "2023-01-03 13:13:39,172 - root - INFO - alert 0x6301d4371a79c4e3c82227c7a6268cbcdd47ff1b0a07fa4cc025f162a74b729c 0xa91a31df513afff32b9d85a2c2b7e786fdd681b3cdd8d93d6074943ba31ae400 FUNDING-TORNADO-CASH Funding: 0x0348d20b74ddc0ac9bfc3626e06d30bb6fac213b anomaly score of 4.2028847072308724e-05\n",
      "2023-01-03 13:13:39,175 - root - INFO - Have sufficient number of alerts for 0x0348d20b74ddc0ac9bfc3626e06d30bb6fac213b. Overall anomaly score is 5.130979571187041e-10, 3 stages.\n",
      "2023-01-03 13:13:39,177 - root - INFO - 0x0348d20b74ddc0ac9bfc3626e06d30bb6fac213b anomaly scores               anomaly_score\n",
      "2023-01-03 13:13:43,601 - root - INFO - alert 0x71f9a7f3a0078bd5f8b1ad2296071938c35c6f5c43939b5f162ef8b36495ed73 0xbc06a40c341aa1acc139c900fd1b7e3999d71b80c13a9dd50a369d8f923757f5 FLASHBOTS-TRANSACTIONS Exploitation: 0x0348d20b74ddc0ac9bfc3626e06d30bb6fac213b anomaly score of 0.015248082997344469\n",
      "2023-01-03 13:13:43,606 - root - INFO - Have sufficient number of alerts for 0x0348d20b74ddc0ac9bfc3626e06d30bb6fac213b. Overall anomaly score is 5.130979571187041e-10, 3 stages.\n",
      "2023-01-03 13:13:43,608 - root - INFO - 0x0348d20b74ddc0ac9bfc3626e06d30bb6fac213b anomaly scores               anomaly_score\n"
     ]
    }
   ],
   "source": [
    "#read output.txt and answer questions around\n",
    "!grep 'anomaly' {name}.txt\n",
    "\n",
    "\n",
    "#anomaly scores\n",
    "#FP filtering\n"
   ]
  },
  {
   "cell_type": "code",
   "execution_count": null,
   "metadata": {},
   "outputs": [],
   "source": []
  }
 ],
 "metadata": {
  "kernelspec": {
   "display_name": "forta",
   "language": "python",
   "name": "python3"
  },
  "language_info": {
   "codemirror_mode": {
    "name": "ipython",
    "version": 3
   },
   "file_extension": ".py",
   "mimetype": "text/x-python",
   "name": "python",
   "nbconvert_exporter": "python",
   "pygments_lexer": "ipython3",
   "version": "3.8.13 (default, Mar 28 2022, 06:16:26) \n[Clang 12.0.0 ]"
  },
  "orig_nbformat": 4,
  "vscode": {
   "interpreter": {
    "hash": "31f6e1811d5b736dff4620794320d6dcce7f07a0a9add80071f131104eb0b480"
   }
  }
 },
 "nbformat": 4,
 "nbformat_minor": 2
}
