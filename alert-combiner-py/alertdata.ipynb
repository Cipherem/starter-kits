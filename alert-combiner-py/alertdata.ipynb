{
 "cells": [
  {
   "cell_type": "code",
   "execution_count": 1,
   "metadata": {},
   "outputs": [],
   "source": [
    "from src.dynamo_utils import DynamoUtils, PROD_TAG\n",
    "from src.storage import get_secrets, s3_client, dynamo_table\n",
    "dynamo = None\n",
    "secrets = get_secrets()\n",
    "s3 = s3_client(secrets)\n",
    "dynamo = dynamo_table(secrets)\n",
    "\n",
    "\n",
    "du = DynamoUtils(PROD_TAG, 1)\n",
    "df = du.read_alert_data(dynamo, '0xc1f2b71a502b551a65eee9c96318afdd5fd439fa')"
   ]
  },
  {
   "cell_type": "code",
   "execution_count": 2,
   "metadata": {},
   "outputs": [
    {
     "data": {
      "text/html": [
       "<div>\n",
       "<style scoped>\n",
       "    .dataframe tbody tr th:only-of-type {\n",
       "        vertical-align: middle;\n",
       "    }\n",
       "\n",
       "    .dataframe tbody tr th {\n",
       "        vertical-align: top;\n",
       "    }\n",
       "\n",
       "    .dataframe thead th {\n",
       "        text-align: right;\n",
       "    }\n",
       "</style>\n",
       "<table border=\"1\" class=\"dataframe\">\n",
       "  <thead>\n",
       "    <tr style=\"text-align: right;\">\n",
       "      <th></th>\n",
       "    </tr>\n",
       "  </thead>\n",
       "  <tbody>\n",
       "  </tbody>\n",
       "</table>\n",
       "</div>"
      ],
      "text/plain": [
       "Empty DataFrame\n",
       "Columns: []\n",
       "Index: []"
      ]
     },
     "execution_count": 2,
     "metadata": {},
     "output_type": "execute_result"
    }
   ],
   "source": [
    "df"
   ]
  },
  {
   "cell_type": "code",
   "execution_count": 13,
   "metadata": {},
   "outputs": [
    {
     "data": {
      "text/html": [
       "<div>\n",
       "<style scoped>\n",
       "    .dataframe tbody tr th:only-of-type {\n",
       "        vertical-align: middle;\n",
       "    }\n",
       "\n",
       "    .dataframe tbody tr th {\n",
       "        vertical-align: top;\n",
       "    }\n",
       "\n",
       "    .dataframe thead th {\n",
       "        text-align: right;\n",
       "    }\n",
       "</style>\n",
       "<table border=\"1\" class=\"dataframe\">\n",
       "  <thead>\n",
       "    <tr style=\"text-align: right;\">\n",
       "      <th></th>\n",
       "      <th>stage</th>\n",
       "      <th>created_at</th>\n",
       "      <th>anomaly_score</th>\n",
       "      <th>alert_hash</th>\n",
       "      <th>bot_id</th>\n",
       "      <th>alert_id</th>\n",
       "      <th>addresses</th>\n",
       "      <th>transaction_hash</th>\n",
       "      <th>address_filter</th>\n",
       "    </tr>\n",
       "  </thead>\n",
       "  <tbody>\n",
       "    <tr>\n",
       "      <th>17</th>\n",
       "      <td>Preparation</td>\n",
       "      <td>2023-11-10 18:48:04.616</td>\n",
       "      <td>0.077510</td>\n",
       "      <td>0xd5b71b32bbf81050e87cbb40aa8e6c308394bcd9d0a1...</td>\n",
       "      <td>0x9aaa5cd64000e8ba4fa2718a467b90055b70815d6035...</td>\n",
       "      <td>SUSPICIOUS-CONTRACT-CREATION</td>\n",
       "      <td>[0x0a3340129816a86b62b7eafd61427f743c315ef8, 0...</td>\n",
       "      <td>0x67fc36e98eba005f7673480e10493a55080617e4bcfb...</td>\n",
       "      <td>None</td>\n",
       "    </tr>\n",
       "    <tr>\n",
       "      <th>19</th>\n",
       "      <td>Preparation</td>\n",
       "      <td>2023-11-10 18:44:59.465</td>\n",
       "      <td>0.077323</td>\n",
       "      <td>0x36e073ab9fa8e2fe2e009b120c0579bcc8bb4e2e6321...</td>\n",
       "      <td>0x9aaa5cd64000e8ba4fa2718a467b90055b70815d6035...</td>\n",
       "      <td>SUSPICIOUS-CONTRACT-CREATION</td>\n",
       "      <td>[0x190ed02adaf1ef8039fcd3f006b42553467d5045, 0...</td>\n",
       "      <td>0xb5bf9e2e13aadb921b06202d4c9dab146fb015b77ff7...</td>\n",
       "      <td>None</td>\n",
       "    </tr>\n",
       "  </tbody>\n",
       "</table>\n",
       "</div>"
      ],
      "text/plain": [
       "          stage              created_at  anomaly_score  \\\n",
       "17  Preparation 2023-11-10 18:48:04.616       0.077510   \n",
       "19  Preparation 2023-11-10 18:44:59.465       0.077323   \n",
       "\n",
       "                                           alert_hash  \\\n",
       "17  0xd5b71b32bbf81050e87cbb40aa8e6c308394bcd9d0a1...   \n",
       "19  0x36e073ab9fa8e2fe2e009b120c0579bcc8bb4e2e6321...   \n",
       "\n",
       "                                               bot_id  \\\n",
       "17  0x9aaa5cd64000e8ba4fa2718a467b90055b70815d6035...   \n",
       "19  0x9aaa5cd64000e8ba4fa2718a467b90055b70815d6035...   \n",
       "\n",
       "                        alert_id  \\\n",
       "17  SUSPICIOUS-CONTRACT-CREATION   \n",
       "19  SUSPICIOUS-CONTRACT-CREATION   \n",
       "\n",
       "                                            addresses  \\\n",
       "17  [0x0a3340129816a86b62b7eafd61427f743c315ef8, 0...   \n",
       "19  [0x190ed02adaf1ef8039fcd3f006b42553467d5045, 0...   \n",
       "\n",
       "                                     transaction_hash address_filter  \n",
       "17  0x67fc36e98eba005f7673480e10493a55080617e4bcfb...           None  \n",
       "19  0xb5bf9e2e13aadb921b06202d4c9dab146fb015b77ff7...           None  "
      ]
     },
     "execution_count": 13,
     "metadata": {},
     "output_type": "execute_result"
    }
   ],
   "source": [
    "df[df['alert_id']=='SUSPICIOUS-CONTRACT-CREATION']"
   ]
  },
  {
   "cell_type": "code",
   "execution_count": null,
   "metadata": {},
   "outputs": [],
   "source": []
  }
 ],
 "metadata": {
  "kernelspec": {
   "display_name": "forta",
   "language": "python",
   "name": "python3"
  },
  "language_info": {
   "codemirror_mode": {
    "name": "ipython",
    "version": 3
   },
   "file_extension": ".py",
   "mimetype": "text/x-python",
   "name": "python",
   "nbconvert_exporter": "python",
   "pygments_lexer": "ipython3",
   "version": "3.8.13"
  }
 },
 "nbformat": 4,
 "nbformat_minor": 2
}
