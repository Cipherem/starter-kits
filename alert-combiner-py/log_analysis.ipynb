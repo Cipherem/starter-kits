{
 "cells": [
  {
   "cell_type": "code",
   "execution_count": 14,
   "metadata": {},
   "outputs": [
    {
     "data": {
      "text/plain": [
       "True"
      ]
     },
     "execution_count": 14,
     "metadata": {},
     "output_type": "execute_result"
    }
   ],
   "source": [
    "# Copyright 2022 The Forta Foundation\n",
    " \n",
    "import requests\n",
    "import pandas as pd\n",
    "import json\n",
    "import dotenv\n",
    "import os\n",
    "import io\n",
    "from datetime import datetime, timedelta\n",
    "\n",
    "# Load environment variables\n",
    "dotenv.load_dotenv()"
   ]
  },
  {
   "cell_type": "code",
   "execution_count": 2,
   "metadata": {},
   "outputs": [],
   "source": [
    "start_date = \"2022-12-01\" #when the attack detector first started to operate\n",
    "start_date = \"2023-01-10\" #when the attack detector first started to operate\n",
    "attacker_addresses = \"0x9d0163e76bbcf776001e639d65f573949a53ab03\"\n",
    "chain = \"ethereum\" #ethereum or binance \n",
    "name = \"LendHub\"\n",
    "end_date = \"2023-01-14\" #should be the date of the attack"
   ]
  },
  {
   "cell_type": "code",
   "execution_count": 3,
   "metadata": {},
   "outputs": [
    {
     "name": "stdout",
     "output_type": "stream",
     "text": [
      "{\"data\":{\"alerts\":{\"pageInfo\":{\"hasNextPage\":false,\"endCursor\":{\"alertId\":\"\",\"blockNumber\":0}},\"alerts\":[{\"hash\":\"0x5c4bb59bc4757a6ba658be6c13be1f5a4c4e315bfe2965cb72b5cce6b887410c\",\"createdAt\":\"2023-01-14T09:49:52.195550217Z\"},{\"hash\":\"0x414d57b6dadb6a3b8e5ba71d578d1c493ec2bb1bd0d0f52ed2fbc3771ef62025\",\"createdAt\":\"2023-01-14T09:49:52.150666702Z\"},{\"hash\":\"0x5587c4b6974117e3a1c3499fe887929c4161f24c1499b35674d79c0b39a6522f\",\"createdAt\":\"2023-01-14T09:47:16.813970861Z\"},{\"hash\":\"0xd896809a8900d397c80245fb29d1d8ab23b4bf36f2da1112c68c5913580760d2\",\"createdAt\":\"2023-01-14T09:43:59.114799781Z\"},{\"hash\":\"0x72dc20aa34674f046bb65e99c1a2a2696c7dbb80df7769f3ef3e68fdf99ce3d0\",\"createdAt\":\"2023-01-14T09:41:13.197932279Z\"},{\"hash\":\"0x4596e89da5acbe8861ff18518df28d89768b40d147259a9c9af06bda4ae7ac1b\",\"createdAt\":\"2023-01-14T09:35:57.669903562Z\"},{\"hash\":\"0xd5ac9a876dba63f6d3dc5a3ea85595bad9d7f072f762e75946aaf496370456a1\",\"createdAt\":\"2023-01-13T08:36:43.935917199Z\"},{\"hash\":\"0xad03fb24ac3dab11fb65c68b38680e56dc9e8ff226b21c7550e08405dfcdff70\",\"createdAt\":\"2023-01-13T08:36:43.94895351Z\"},{\"hash\":\"0x85b530b7dbadb55f2688a5497dd2a18c24d054f258ad433eec2c3f576958e212\",\"createdAt\":\"2023-01-12T19:14:07.23361006Z\"},{\"hash\":\"0xc7fcdf9cbb0f1275c2b803874249b5fde5628ffd09a9745a9c217d8ee8f82d5c\",\"createdAt\":\"2023-01-11T22:57:04.954497958Z\"},{\"hash\":\"0x46444f70a08a5d8df7c01add29b945f52480141016892760a55f390e928eef12\",\"createdAt\":\"2023-01-14T09:56:17.955224785Z\"},{\"hash\":\"0xf505c2f5be50fdfcaf1397fcde4a1b0374e013dbeb784c8be7b778a2af6f19fb\",\"createdAt\":\"2023-01-14T09:51:32.441407175Z\"},{\"hash\":\"0xbeb1325ca6f3ffac015fd745c332625784ac9b09846c7392724c6b4d61ab0961\",\"createdAt\":\"2023-01-13T23:34:35.118811326Z\"},{\"hash\":\"0x7fef6d98ac7faf14a4399ec5c13dec18f579c38dc98abe5e1a6828f7146b4ff6\",\"createdAt\":\"2023-01-13T23:34:33.202879577Z\"},{\"hash\":\"0xf88d53335be6082410f3bdd64b9e4e2af3b4b69de2c9f6b247145d9e49453c2f\",\"createdAt\":\"2023-01-13T11:13:34.504823955Z\"},{\"hash\":\"0xc0784f1d3748ddc7f6edafa2e5d963261d9c5fe5a3b14340449610d408576d28\",\"createdAt\":\"2023-01-13T11:13:34.521647725Z\"},{\"hash\":\"0xb1b6c4539a33f48577348abe04a05bbfc3b5667ca4ece69a3980c3728d30ed85\",\"createdAt\":\"2023-01-13T11:13:36.168514551Z\"},{\"hash\":\"0x895f779758e626016454aaaf4b69feebc29960cd385bb60b244e8a12f3756ccc\",\"createdAt\":\"2023-01-13T11:39:19.409109163Z\"},{\"hash\":\"0x240c36905ce011e4919c1e385611e2768170d55b36a25cc4a66ef51288aa2e4c\",\"createdAt\":\"2023-01-13T11:13:36.18382041Z\"},{\"hash\":\"0xfaeb83c919c1232d98108a126e8d4c34844af7ff617e1c4055e6f882031801ff\",\"createdAt\":\"2023-01-13T08:52:48.080927196Z\"},{\"hash\":\"0xbe0d5e5022179482a4bcfbcf46972982c3d4481143dd8d80b44b77fc4660a7e7\",\"createdAt\":\"2023-01-13T08:52:43.181437198Z\"},{\"hash\":\"0xaec2956c838c59accf1382e2dec3746c6fed0bd1dca4df10ace7800959484019\",\"createdAt\":\"2023-01-13T08:52:38.727421463Z\"},{\"hash\":\"0x7b8f5009eb8a73e464c664e2d48be17609edeaf376f19cd60272b20d16569f3c\",\"createdAt\":\"2023-01-13T09:00:49.38404326Z\"},{\"hash\":\"0x20769d36ace8dea9d43ab035dd7eac3f5da88ef2e1d6d860b2b19ce16960be9f\",\"createdAt\":\"2023-01-13T08:52:37.549759061Z\"},{\"hash\":\"0xcd412de4e3e5f0a7bd667b99c6e2aa922d0ec0af5fedfdc11bb4420fdc65505a\",\"createdAt\":\"2023-01-13T08:51:38.863138196Z\"},{\"hash\":\"0xa4842e83a5d8a8b4be061d7ffa2fa411d51cdbb3dba02e4ef9df222716231c30\",\"createdAt\":\"2023-01-13T08:51:38.767274849Z\"},{\"hash\":\"0x7f110709201eb6f197023432507b15e6ac99181a005165477b2ba05531d98f72\",\"createdAt\":\"2023-01-13T08:51:38.81509495Z\"},{\"hash\":\"0x77dc38b290ae4aa25a70ff340afc4d401fec1758fdb414bfd2f9dd726a7bfe1a\",\"createdAt\":\"2023-01-13T08:52:00.600618591Z\"},{\"hash\":\"0x27f70c3f4fcbf349f15b738741052155550537bb8cf83d1b581fd139434858ad\",\"createdAt\":\"2023-01-13T08:51:49.451833911Z\"},{\"hash\":\"0x246d5bc510a537d52c1d9307d51c9c84543f45c6462814b27dfbd0a67bed5d36\",\"createdAt\":\"2023-01-13T08:51:38.782154884Z\"},{\"hash\":\"0x1d626b406bc660816a1575541c26550dc957ba23bf48a037411ee6990167f3af\",\"createdAt\":\"2023-01-13T08:51:49.477442257Z\"},{\"hash\":\"0x08191b05b7e9ec0c2bf932c4395f28c6007d39239037fcb509b4115d1f4cb22c\",\"createdAt\":\"2023-01-13T08:52:00.619359271Z\"},{\"hash\":\"0xf2ff6c4c2f635575da61f75412d481db9291aa97eb98ccd447677dda7496398b\",\"createdAt\":\"2023-01-13T08:50:56.456582952Z\"},{\"hash\":\"0xe7f1a6d319029cb6e281f51f917e5d5ca814cbd576eaaee2bd7c5da0876c4124\",\"createdAt\":\"2023-01-13T08:50:47.006356042Z\"},{\"hash\":\"0x3310da3e2dc394b5344bfba3ba8f9d6e38b11fffd61fea6b11786bbd9734f137\",\"createdAt\":\"2023-01-13T08:51:00.539672411Z\"},{\"hash\":\"0x0080b8f6b568938913915425fd348f9e0e28ab90e244dc4eec6710adfa66a5e6\",\"createdAt\":\"2023-01-13T08:50:59.592653721Z\"},{\"hash\":\"0xdfdbae6f075486691d123cb87c80981722d982913da98039bc1101ca451de083\",\"createdAt\":\"2023-01-13T08:49:39.650748422Z\"},{\"hash\":\"0xa39ea9fcca77c5174b4f8247bb1503632430be525231ab00508da8f9e60874a6\",\"createdAt\":\"2023-01-13T08:49:47.863864067Z\"},{\"hash\":\"0x8266d476bc67bd266b0d5dfe10f9720109ef80ce89a6e63db14b3a99cca7a526\",\"createdAt\":\"2023-01-13T08:50:01.045322429Z\"},{\"hash\":\"0x38e7274ad3f5b057158514f176f48586a2c50aa8ffee8f33a579e4cbf734aa8b\",\"createdAt\":\"2023-01-13T08:49:44.425959085Z\"},{\"hash\":\"0xda51bbd146374d33cbdcf308438d0fcf0b5dc71f1d342e4eba21597e957c7277\",\"createdAt\":\"2023-01-13T08:49:00.124781925Z\"},{\"hash\":\"0x4417de9c29c3f1d44b90bced50ea41193689304321774b77ed2203e2f312615c\",\"createdAt\":\"2023-01-13T08:49:02.907284259Z\"},{\"hash\":\"0x30b97bb8d3ef4e331f1ed805c4c505e0490132ea070b16eea92cff7b36664092\",\"createdAt\":\"2023-01-13T08:49:11.531714145Z\"},{\"hash\":\"0x29b347a6ff810836c2bec72b6b946e2e6b2890e6ec67692e86fd3f0494be4c6a\",\"createdAt\":\"2023-01-13T08:49:14.213796421Z\"},{\"hash\":\"0xed9867b439ad5c90ca3026045e165802f9109b420234a730b0a5cb2489f79368\",\"createdAt\":\"2023-01-13T08:48:19.231454668Z\"},{\"hash\":\"0x74a468db3d73d5f2910b1b492875205bc311c5292f5d462011c4e9bc775a7c7e\",\"createdAt\":\"2023-01-13T08:48:27.198954109Z\"},{\"hash\":\"0x56e2474236a03df528ad59b7e984f023d9b8f5d04a08998f90112a87d5e0e0f7\",\"createdAt\":\"2023-01-13T08:48:28.332904442Z\"},{\"hash\":\"0x267ea1ccad38d883807c31e645f380739d864bc0abbdae2872a7e0975443bbce\",\"createdAt\":\"2023-01-13T08:48:14.949197134Z\"},{\"hash\":\"0xcd7a2a29a59c4a8ddf4d60828bea0c804237d109fe3208205288fdf6f4afa314\",\"createdAt\":\"2023-01-13T08:47:34.611677722Z\"},{\"hash\":\"0xcccbfbaac5c458d9adec2fe1ac5ec34402e0adb16f4aceeb034d90feb3e3c364\",\"createdAt\":\"2023-01-13T08:47:32.313340692Z\"},{\"hash\":\"0x2181163f9ef4373510836549778873394ba0cb2b2111f7d186851487695f541c\",\"createdAt\":\"2023-01-13T08:47:24.51945917Z\"},{\"hash\":\"0x151a86e207ee9c8381a7195d37c213ec5ab83df0e22c51e4d717b5c88abcaf57\",\"createdAt\":\"2023-01-13T08:47:25.160320998Z\"},{\"hash\":\"0xc226913075ac43d1c139804267b6873a53d33beaa2941a65d0f667c6c719a355\",\"createdAt\":\"2023-01-13T08:47:02.463279296Z\"},{\"hash\":\"0x386fa952d42078dc4711dae4c1fb24fdf85e206ed61460aebb39e666b6df0e54\",\"createdAt\":\"2023-01-13T08:47:13.214140106Z\"},{\"hash\":\"0x197408aadaf814685fffa9c88bc8964c084fa7d1790e3dbe2ac5a42f7df392eb\",\"createdAt\":\"2023-01-13T08:47:13.159410029Z\"},{\"hash\":\"0xe25e222937bdb4f4b99233ec7dddc2df9c0dc77cf25aca3c795dd9a0df50fc8c\",\"createdAt\":\"2023-01-13T08:44:27.399558224Z\"},{\"hash\":\"0x86ea2f79adc6d9dfe3ede3cb5edc27cfe6f231251db99507470b9e4a3bc15b5d\",\"createdAt\":\"2023-01-13T08:44:26.336803862Z\"},{\"hash\":\"0x5891a8b697a02cfe66148626d77bd978afb3e10f0b36b758ccc7e12d8ac02064\",\"createdAt\":\"2023-01-13T08:44:25.172832843Z\"},{\"hash\":\"0x14e8404b867034866810099d6a73fad9a7859e5a93cfc3efc61ffe46b23a91d9\",\"createdAt\":\"2023-01-13T08:26:30.449869534Z\"},{\"hash\":\"0xe6bf3e83c47631fb3af36a7c97e34ed98d1cd6c148107e0d69ec78a9bb265c69\",\"createdAt\":\"2023-01-13T08:26:11.0606716Z\"},{\"hash\":\"0x655d03b62e0e2718a92dd1996de650aa99679920573090e0bdd3fd76eaf5ed93\",\"createdAt\":\"2023-01-13T08:26:09.754758971Z\"},{\"hash\":\"0x4c95ca6d9fa93b9bc42b7a23aeedfcbfad8d0565b3a70960154f5356c1630640\",\"createdAt\":\"2023-01-13T08:26:12.653351949Z\"},{\"hash\":\"0x4f234dc9f5e1329b9dc00c1e0287d2042f4b36460947ac8033fa0701ba8d1b6c\",\"createdAt\":\"2023-01-13T08:15:32.903583798Z\"},{\"hash\":\"0xf02679f284a2a4baf0e81cfea2af4ea2a06608726b56f6f0408ff3eb1fbfed92\",\"createdAt\":\"2023-01-13T08:15:14.643808657Z\"},{\"hash\":\"0x2f5134c0ad1054694f5a1a40526a150397535209a75ef2c67a641b379b71cfde\",\"createdAt\":\"2023-01-13T08:38:41.532882066Z\"},{\"hash\":\"0xdc9f31c8554f496e64a12442e8835af79a4944b100e12234c23cfe9ab563010c\",\"createdAt\":\"2023-01-13T08:11:46.344291131Z\"},{\"hash\":\"0x418b04b975da0c547bfbf32aefbe896b166258437903358ae563bd8d04d04a0e\",\"createdAt\":\"2023-01-13T08:11:53.901088654Z\"},{\"hash\":\"0xea89ef08ef837dafd0b64ffdbc7b5f6dfd87bcc6822cfd173152f9c8241c79e2\",\"createdAt\":\"2023-01-13T08:20:23.80966494Z\"},{\"hash\":\"0xc9f4d01cb447c777b423694905f2fb23d72aa5c3bd4ddbe98bfb749974e7824b\",\"createdAt\":\"2023-01-13T08:11:53.29888985Z\"},{\"hash\":\"0xa2169464e2a7e7596b96c30d7605cfbca932782209845cf4f87777cbc3187c3e\",\"createdAt\":\"2023-01-13T08:19:03.491091127Z\"},{\"hash\":\"0x9bbd53e1461ddecf86ea026770412f0e1e154a7b537c10feb6f8c742a822ccb3\",\"createdAt\":\"2023-01-13T08:11:27.275885025Z\"},{\"hash\":\"0x6fb7f27b814161d5bf122d1656ee4c8e11ff6f40adb0801944a4dc803ba0f22e\",\"createdAt\":\"2023-01-13T08:19:03.474592449Z\"},{\"hash\":\"0x421bd368dc2f93045c163f508a778807866747a5918da68a4ac0ae235d95e0b0\",\"createdAt\":\"2023-01-13T08:11:26.489000604Z\"},{\"hash\":\"0x2e34e1d7d49481826e4a6da4d7897139e06bb3bdf4975b577f4b9484962e5ffe\",\"createdAt\":\"2023-01-13T08:10:06.790532832Z\"},{\"hash\":\"0xcfd51ffddff8eea28cd6562f083feecd67b67d41247408fe812fb017a71b7cec\",\"createdAt\":\"2023-01-13T08:20:48.221840067Z\"},{\"hash\":\"0xa87b503d02d38058e322c714f413ea53c6441c1cb4fec0ff201c4e9bd3547a93\",\"createdAt\":\"2023-01-13T08:09:37.552145016Z\"},{\"hash\":\"0x85cdc2240d33191546466e963c964212df982e9486a40a08bb5ad577e40f4b44\",\"createdAt\":\"2023-01-13T08:09:48.279985764Z\"},{\"hash\":\"0x4e472027742550142a8ebe6c00762a65ef1a20b8147026ad03045e20df97b015\",\"createdAt\":\"2023-01-13T08:17:38.145049029Z\"},{\"hash\":\"0x28427f4a74e66070a4e0742b4d6c91a7c1cd22fcb5692144a69625e59df42289\",\"createdAt\":\"2023-01-13T08:17:38.126821533Z\"},{\"hash\":\"0xb0e99e58d49e59b200d1f43e4278120eea52a1fbccd2df3e8d9495b1a5bd0863\",\"createdAt\":\"2023-01-13T08:08:23.470124369Z\"},{\"hash\":\"0xea5101c3b4b2780a6e1031356b198f6ce9f7122fb502ca7ab2317fca20e06321\",\"createdAt\":\"2023-01-13T07:50:57.432922597Z\"},{\"hash\":\"0xa43e7b123803adb52d07c9bd11fe95a6b4a739cdfe9ef3cb4b75f9561718116d\",\"createdAt\":\"2023-01-13T07:51:07.089787391Z\"},{\"hash\":\"0x3302d9cbba6a8b6395d794ff9013afd675a47d362c157d89ffae643cb1c2febd\",\"createdAt\":\"2023-01-13T07:57:52.849639889Z\"},{\"hash\":\"0x11b84976909fdb23750c8da2467e95a7ca2c12eeeb5b2536958415311f9505d7\",\"createdAt\":\"2023-01-13T07:51:14.351212516Z\"},{\"hash\":\"0xf8e3854b4da825827fea938e331356f92739dcf5753f33952103ef768adaa9f7\",\"createdAt\":\"2023-01-13T01:23:12.243196502Z\"},{\"hash\":\"0x5f01c447e307c4b84d6f4fb527027ac133a4bced75bd529d3da9a5c9fb0adc6a\",\"createdAt\":\"2023-01-13T00:54:03.070154862Z\"},{\"hash\":\"0xacc498c1b907c1b6f6bbb172f3c0770a00744f41f0de8f81010c68b287e849b8\",\"createdAt\":\"2023-01-13T00:43:24.972946774Z\"},{\"hash\":\"0x8ba0763efe7442d6f6356084303b60c5674ba83a7b71c22273bf368997d9c335\",\"createdAt\":\"2023-01-13T00:43:20.089966708Z\"},{\"hash\":\"0x847da5a55671ffe0e26444c789e2344cd55b3bb1f56b9b656dbd1650bfcf8345\",\"createdAt\":\"2023-01-13T00:43:14.990320225Z\"},{\"hash\":\"0xcc9638fd2ec1bf6c845da9312ba4a056302da180b553f7bf4b8172fcee261baa\",\"createdAt\":\"2023-01-12T21:13:27.958147035Z\"},{\"hash\":\"0xe68bd5e3154f01357ab6c5af771d13d48344fe5a431624fa8eb33b163e0b064c\",\"createdAt\":\"2023-01-12T21:13:03.947869372Z\"},{\"hash\":\"0xcdb074b0d92c6d6977d4315846e4d047ce50af450f79c45056816f0a90f22178\",\"createdAt\":\"2023-01-12T21:12:57.512265382Z\"},{\"hash\":\"0xc3ff32560e3f1cd257459fdc02266f5ea2614de97b0c314239ec1f134c619e67\",\"createdAt\":\"2023-01-12T21:13:03.908365403Z\"},{\"hash\":\"0x87a53683388c4d76e11029e80724faaa7cdfbd3b3d6fb68486dc165f1c3d3719\",\"createdAt\":\"2023-01-12T21:13:08.796240027Z\"},{\"hash\":\"0x4b142d395a508f8d20f01b6169adc0cb93ad11e60a3a7e3a3d7c1061c1a80a88\",\"createdAt\":\"2023-01-12T21:13:08.774302172Z\"},{\"hash\":\"0x0d42a40db4d2d53c63ed57e992e169a4b4a1477eb8cbdcdce0bb43817ba68b78\",\"createdAt\":\"2023-01-12T21:40:24.284791265Z\"},{\"hash\":\"0x1c6829287575047a405fe9cdb69e14c82f857eb6f68c08fb5a4d431652cf9fcc\",\"createdAt\":\"2023-01-12T21:11:50.460463426Z\"},{\"hash\":\"0xabecd2d8f652eb80195583b5970d1435edbf6b15a90a4acb36e802127f8b8166\",\"createdAt\":\"2023-01-12T21:11:32.841554291Z\"},{\"hash\":\"0xba0d190cf6c625d2ce912b2c63c077caa2056bce54548c02bf91960acc6a7be7\",\"createdAt\":\"2023-01-12T21:11:41.733689626Z\"},{\"hash\":\"0x7e2a33272d9087d08f302b384210b7a527e9ba1f63753b659c223af8b8ffc35c\",\"createdAt\":\"2023-01-12T21:11:24.295645942Z\"},{\"hash\":\"0xea1191b8b99927704a3d0b5c2459940dbcec3c2bf81dbd789ebe54090fe87872\",\"createdAt\":\"2023-01-12T21:10:07.417592609Z\"},{\"hash\":\"0xf51a368a56da4d492214af4aba6c2277b7fa61eb26a9d1834897ea557bfe2772\",\"createdAt\":\"2023-01-12T20:26:44.292155569Z\"},{\"hash\":\"0xdca8ce62aa30dca532160786fe0613fc708fabf5991657217a435ae748f9975a\",\"createdAt\":\"2023-01-12T20:26:39.253453856Z\"},{\"hash\":\"0x3af4cbac6436335e211bfa8d2946545a4e7da885acb4f8ef10ebc1368c745422\",\"createdAt\":\"2023-01-12T20:26:36.615041206Z\"},{\"hash\":\"0x29293646e91296f2f89138a65092bccb52644ff4e8d19cfe138409c37389eca9\",\"createdAt\":\"2023-01-12T20:15:42.618825882Z\"},{\"hash\":\"0x0fb1b0cecd206eb53d9c13e35b3f3a056d21ff52b058e6433887425e0427442d\",\"createdAt\":\"2023-01-12T20:15:39.450062345Z\"},{\"hash\":\"0xaea084025a90589ab2c277fe05b024acb65195b07a8ab07394ef5e8707aa4aee\",\"createdAt\":\"2023-01-12T20:07:57.285816621Z\"},{\"hash\":\"0x8ff272877bca944179970ec898dd95ce6eac20b682ba59ccb01dd75011889cfb\",\"createdAt\":\"2023-01-12T20:07:53.977978282Z\"},{\"hash\":\"0x0dad1ee2af1985fdff7f145eabf27a05e3f582ad4e6eb743ce38ad9e2512f5a4\",\"createdAt\":\"2023-01-12T20:07:51.870015602Z\"},{\"hash\":\"0xf2b09d06cd333eb2ff5e9ae7ff7c3674896dbecdf392230d734713ec7248ddcd\",\"createdAt\":\"2023-01-12T20:03:54.948873313Z\"},{\"hash\":\"0xb3100b9da99889bcc485aac972705194e987f7a64254124ddd6f9ce9841e9b15\",\"createdAt\":\"2023-01-12T20:03:54.126670577Z\"},{\"hash\":\"0x89eebcc6a56767d46cbcf45895b47fa6cc45387b19ea3a99ad57f7fa7e1b2a64\",\"createdAt\":\"2023-01-12T20:03:51.327577315Z\"},{\"hash\":\"0xfb8260e77e8bb4c42d1e81d67204c26a893e087045912d780acdb93be37ba473\",\"createdAt\":\"2023-01-12T20:02:27.125870394Z\"},{\"hash\":\"0xca2f80438acdb9f029a1bfff3b5aa4c877d7dd343b577386e8e54962901bd609\",\"createdAt\":\"2023-01-12T19:54:54.683565226Z\"},{\"hash\":\"0xb1e0d6d98b8b1b62886edb45565ea6b7735180e26dc3ac514926e63c44a9514c\",\"createdAt\":\"2023-01-12T19:54:52.692845717Z\"},{\"hash\":\"0x9988630c7cbdce3821d30116b95443e920fe400c85652d1e13aaf47b24237680\",\"createdAt\":\"2023-01-12T19:55:09.051582118Z\"},{\"hash\":\"0x68a9cb0412c55debaed001c4212bd736929482a50cbbe6587546da96e8337e08\",\"createdAt\":\"2023-01-12T20:07:09.232361313Z\"},{\"hash\":\"0xfcf12a1b98954f9ac485d61f6613e0d097db924c46afeb6816b08910443c2a7d\",\"createdAt\":\"2023-01-12T19:52:26.250024799Z\"},{\"hash\":\"0xcbbf58f578cbf48526c895e3a98ee095858ddbe2e5a001e6d6538fb088671eb0\",\"createdAt\":\"2023-01-12T19:52:07.374031757Z\"},{\"hash\":\"0x3d14d24dfb2fb7712498edb16d9f68a2da33342fc0f9fecc818a9494da218447\",\"createdAt\":\"2023-01-12T19:52:07.392719858Z\"},{\"hash\":\"0xdc9188bf816637bf3cbc9a5de5092e22474e207eea76b583a693f21d128c4217\",\"createdAt\":\"2023-01-12T19:46:29.665467326Z\"},{\"hash\":\"0xe379ec5820e422c002f018383e082e205934717f5c0ab6e340b852af19cde1b6\",\"createdAt\":\"2023-01-12T19:45:55.27636212Z\"},{\"hash\":\"0xc0172c200759f1144a17b21623271bb9ab659e09e837be0882f2c06be0cfddec\",\"createdAt\":\"2023-01-12T19:45:50.993587494Z\"},{\"hash\":\"0xa7671beab8837c2b3014bb563aa379dcbe70f1b2182e77ee5790c49619cfc175\",\"createdAt\":\"2023-01-12T19:45:49.098773209Z\"},{\"hash\":\"0xadee8fe1cd3474269b468f8e22077254d194eed33e3fa5cbc21a060290007274\",\"createdAt\":\"2023-01-12T04:46:44.155598374Z\"},{\"hash\":\"0x926e95c40e165afef53765ce5bb77876005218f6a741a3e1e08bc759d4935f99\",\"createdAt\":\"2023-01-12T05:09:00.540225086Z\"},{\"hash\":\"0x78466f9e7afe414527818f73978f7c74b4f95fe0b88909d5118dc62c1ac648f0\",\"createdAt\":\"2023-01-12T04:46:44.137862363Z\"},{\"hash\":\"0x0815d96069e02d5b46a02f79561de7a74ecccc85ca4bc2d2e8ae03ae7f8eacea\",\"createdAt\":\"2023-01-11T22:42:20.644334669Z\"},{\"hash\":\"0xe24eebd75e19fc616c219c3c857fa5a2d59e4150b311b6434b2a2b68e6ecd429\",\"createdAt\":\"2023-01-11T22:42:10.872457417Z\"},{\"hash\":\"0xdcc0c273652fb4011e804fdf9e810cc4055203640341084377178e6a952dfde3\",\"createdAt\":\"2023-01-11T22:42:03.084483918Z\"},{\"hash\":\"0x2e781046563e5d332a0eaa827be95ca8b4a86d7bb035b248177c60b1afb2a30c\",\"createdAt\":\"2023-01-11T22:42:00.255707647Z\"},{\"hash\":\"0x42e1bddedc93ff703835410bd4980bd14d74781d78ff433db02bf74b2b3c2a6a\",\"createdAt\":\"2023-01-11T22:36:43.529759513Z\"},{\"hash\":\"0x1a852276f8a3b40ab4a011083ddda8c1ab166b764699c40ee715973b4189b8f0\",\"createdAt\":\"2023-01-11T22:36:14.997098331Z\"},{\"hash\":\"0x285e7aff46d8701063e6eea88ca7753fc724aaeec4c7d063619865e394a16cf4\",\"createdAt\":\"2023-01-11T22:56:04.174942514Z\"},{\"hash\":\"0x1787912a40544304a30c5d4de0dad2304dcc123bfdf5a65ed3da949331240b03\",\"createdAt\":\"2023-01-11T22:35:45.621881235Z\"},{\"hash\":\"0xe33767cf7d0dfd3603e63b3fe7c492139d1eb0056294d709030658e0bda7f577\",\"createdAt\":\"2023-01-11T22:34:15.661735003Z\"},{\"hash\":\"0xebf119798227c787dd459f840866a4bb66b7b70f732bf83e725c7c878e7138bf\",\"createdAt\":\"2023-01-11T22:30:06.366910095Z\"},{\"hash\":\"0xed51fca171b78fd8407611cef068ebc59a4b910a726359e0eb008bfc63413882\",\"createdAt\":\"2023-01-11T22:29:37.545967965Z\"},{\"hash\":\"0xe3ede794ad534aed0b2137c714480d659c8a23606c920bbbbaf919393b729bbc\",\"createdAt\":\"2023-01-11T22:29:37.132166973Z\"},{\"hash\":\"0xd626e6346d5669dd0a4cc18f26d36d4ccb7117ccb9300b92d6a9f18d39de25a9\",\"createdAt\":\"2023-01-11T22:37:19.484877194Z\"},{\"hash\":\"0xd53cbd7704e73fb7166c9c714d853dab42d450a56c76d76267e04c7edb22441b\",\"createdAt\":\"2023-01-11T22:29:30.355704355Z\"},{\"hash\":\"0x7883cf3a723d1c10aca8f8d57e798c860c174418517a4e87364edffbd7882021\",\"createdAt\":\"2023-01-11T22:29:37.681372113Z\"},{\"hash\":\"0x70ff9535379a0b63483ba380db74391e2ab5d2f075d7a8e3a9e40ad02adf036d\",\"createdAt\":\"2023-01-11T22:37:19.593179013Z\"},{\"hash\":\"0x516f32cc9a55338650b1160fa341be425127de0d885e88d0b9b810018a17ff05\",\"createdAt\":\"2023-01-11T22:37:19.510410729Z\"},{\"hash\":\"0x4b6f8bb87bf5f07d28d38121ab94d705711ad093433c52bef0ece090ca724df5\",\"createdAt\":\"2023-01-11T22:29:41.780357992Z\"},{\"hash\":\"0x02a89d5a7704be1dac04325592335ac95bd84a101f545cabcef244c2fa471c0f\",\"createdAt\":\"2023-01-11T22:29:42.557885072Z\"},{\"hash\":\"0xaba51ae51bb76563006177b591fc3044e4a741645ac7339e9ac6a8c7d8a01b23\",\"createdAt\":\"2023-01-11T22:25:02.639659227Z\"},{\"hash\":\"0x7940ec5d45623e690101c84649114cf8ae9749af3df86f954bafd71c3844e40d\",\"createdAt\":\"2023-01-11T22:24:24.742603123Z\"},{\"hash\":\"0x3c17d5fd09de43e361b9268cfda8f4eca9d03ceb8be542498d88f39431886b3d\",\"createdAt\":\"2023-01-11T22:24:24.724259583Z\"},{\"hash\":\"0x383086497f4f6e0e0476461f1ab784d171c6c4c522fee3ff604b7f78633edd62\",\"createdAt\":\"2023-01-11T22:23:10.444013289Z\"},{\"hash\":\"0xe719b5a2b1c67c31ec3890a304840f6f7dfb32a8a257763a783eb064bb6fdbed\",\"createdAt\":\"2023-01-11T22:22:51.339719715Z\"},{\"hash\":\"0xe2d7e1d4b60099fd6b5fd7f62a185dfd5c8a1bf5987acd140a484eaf8c12255f\",\"createdAt\":\"2023-01-11T22:22:48.615366344Z\"},{\"hash\":\"0xd8e551179af12692268618634243d36fb660686c8c8c94b46116bbb2ee041e29\",\"createdAt\":\"2023-01-11T22:22:47.836844487Z\"},{\"hash\":\"0x2b2d8444d86e452d1a8a7fa6e578b9477515fe0904de2c74ea5038d88c247495\",\"createdAt\":\"2023-01-11T22:50:12.503300949Z\"},{\"hash\":\"0xe18f80221e23b0b0ec1df67ac3bc060c406e297b54fffe4fb17af72ccb3c4a78\",\"createdAt\":\"2023-01-11T22:20:15.592271608Z\"},{\"hash\":\"0xe1e39c3ee33c86354a4731a851f232abe6860c6cf14e476d4c95d842a51afcf8\",\"createdAt\":\"2023-01-11T22:11:56.789135397Z\"},{\"hash\":\"0xd3291135a14e7e4492be7447874ca40758a1c19f464a3aebe09a29317360d418\",\"createdAt\":\"2023-01-11T22:20:06.199511427Z\"},{\"hash\":\"0xa88eb3f1c4b3e4dd755cb4a8491f3f57aaeda04d0d5cab53cfa06d90ae48f580\",\"createdAt\":\"2023-01-11T22:27:26.937570743Z\"},{\"hash\":\"0x50af72f4adbadb121f5415badc746b2ebb415f2e69e74ae66860001544073754\",\"createdAt\":\"2023-01-11T22:34:49.253774616Z\"}]}}}\n",
      "\n",
      "                                                  hash  \\\n",
      "0    0x5c4bb59bc4757a6ba658be6c13be1f5a4c4e315bfe29...   \n",
      "1    0x414d57b6dadb6a3b8e5ba71d578d1c493ec2bb1bd0d0...   \n",
      "2    0x5587c4b6974117e3a1c3499fe887929c4161f24c1499...   \n",
      "3    0xd896809a8900d397c80245fb29d1d8ab23b4bf36f2da...   \n",
      "4    0x72dc20aa34674f046bb65e99c1a2a2696c7dbb80df77...   \n",
      "..                                                 ...   \n",
      "154  0xe18f80221e23b0b0ec1df67ac3bc060c406e297b54ff...   \n",
      "155  0xe1e39c3ee33c86354a4731a851f232abe6860c6cf14e...   \n",
      "156  0xd3291135a14e7e4492be7447874ca40758a1c19f464a...   \n",
      "157  0xa88eb3f1c4b3e4dd755cb4a8491f3f57aaeda04d0d5c...   \n",
      "158  0x50af72f4adbadb121f5415badc746b2ebb415f2e69e7...   \n",
      "\n",
      "                          createdAt  \n",
      "0    2023-01-14T09:49:52.195550217Z  \n",
      "1    2023-01-14T09:49:52.150666702Z  \n",
      "2    2023-01-14T09:47:16.813970861Z  \n",
      "3    2023-01-14T09:43:59.114799781Z  \n",
      "4    2023-01-14T09:41:13.197932279Z  \n",
      "..                              ...  \n",
      "154  2023-01-11T22:20:15.592271608Z  \n",
      "155  2023-01-11T22:11:56.789135397Z  \n",
      "156  2023-01-11T22:20:06.199511427Z  \n",
      "157  2023-01-11T22:27:26.937570743Z  \n",
      "158  2023-01-11T22:34:49.253774616Z  \n",
      "\n",
      "[159 rows x 2 columns]\n"
     ]
    },
    {
     "data": {
      "text/plain": [
       "159"
      ]
     },
     "execution_count": 3,
     "metadata": {},
     "output_type": "execute_result"
    }
   ],
   "source": [
    "alert_hashes_df = pd.DataFrame(columns=[\"hash\",\"createdAt\"])\n",
    "for attacker_address in attacker_addresses.split(\",\"):\n",
    "    url = 'https://api.forta.network/graphql'\n",
    "    query = '''query exampleQuery {\n",
    "        # first 5 alerts\n",
    "        alerts(\n",
    "            input: { first: 200 , addresses: [\"'''+attacker_address+'''\"],\n",
    "            blockDateRange: { startDate: \"'''+start_date+'''\", endDate: \"'''+end_date+'''\" }\n",
    "            }\n",
    "        ) {\n",
    "            pageInfo {\n",
    "            hasNextPage\n",
    "            endCursor {\n",
    "                alertId\n",
    "                blockNumber\n",
    "            }\n",
    "            }\n",
    "            alerts {\n",
    "            hash\n",
    "            createdAt\n",
    "            \n",
    "            }\n",
    "        }\n",
    "        }\n",
    "    '''\n",
    "    r = requests.post(url, json={'query': query})\n",
    "    print(r.text)\n",
    "    json_data = json.loads(r.text)\n",
    "    df = pd.DataFrame(json_data['data']['alerts']['alerts'])\n",
    "    print(df)\n",
    "    alert_hashes_df = pd.concat([alert_hashes_df, df])\n",
    "\n",
    "len(alert_hashes_df)"
   ]
  },
  {
   "cell_type": "code",
   "execution_count": 30,
   "metadata": {},
   "outputs": [],
   "source": [
    "start_time = datetime.strptime(alert_hashes_df['createdAt'].min()[0:17]+\"00Z\",\"%Y-%m-%dT%H:%M:%SZ\")\n",
    "end_time = datetime.strptime(alert_hashes_df['createdAt'].max()[0:17]+\"00Z\",\"%Y-%m-%dT%H:%M:%SZ\")\n"
   ]
  },
  {
   "cell_type": "code",
   "execution_count": 46,
   "metadata": {},
   "outputs": [
    {
     "name": "stdout",
     "output_type": "stream",
     "text": [
      "2023-01-11T22:11:00Z\n",
      "2023-01-14T09:56:00Z\n"
     ]
    }
   ],
   "source": [
    "print(datetime.strftime(start_time,\"%Y-%m-%dT%H:%M:%SZ\"))\n",
    "print(datetime.strftime(end_time,\"%Y-%m-%dT%H:%M:%SZ\"))\n"
   ]
  },
  {
   "cell_type": "code",
   "execution_count": 80,
   "metadata": {},
   "outputs": [
    {
     "name": "stdout",
     "output_type": "stream",
     "text": [
      "2023-01-11 23:10:00\n",
      "2023-01-12 00:10:00\n",
      "2023-01-12 01:10:00\n",
      "2023-01-12 02:10:00\n",
      "2023-01-12 03:10:00\n",
      "2023-01-12 04:10:00\n",
      "2023-01-12 05:10:00\n",
      "2023-01-12 06:10:00\n",
      "2023-01-12 07:10:00\n",
      "2023-01-12 08:10:00\n",
      "2023-01-12 09:10:00\n",
      "2023-01-12 10:10:00\n",
      "2023-01-12 11:10:00\n",
      "2023-01-12 12:10:00\n",
      "2023-01-12 13:10:00\n",
      "2023-01-12 14:10:00\n",
      "2023-01-12 15:10:00\n",
      "2023-01-12 16:10:00\n",
      "2023-01-12 17:10:00\n",
      "2023-01-12 18:10:00\n",
      "2023-01-12 19:10:00\n",
      "2023-01-12 20:10:00\n",
      "2023-01-12 21:10:00\n",
      "2023-01-12 22:10:00\n",
      "2023-01-12 23:10:00\n",
      "2023-01-13 00:10:00\n",
      "2023-01-13 01:10:00\n",
      "2023-01-13 02:10:00\n",
      "2023-01-13 03:10:00\n",
      "2023-01-13 04:10:00\n",
      "2023-01-13 05:10:00\n",
      "2023-01-13 06:10:00\n",
      "2023-01-13 07:10:00\n",
      "2023-01-13 08:10:00\n",
      "2023-01-13 09:10:00\n",
      "2023-01-13 10:10:00\n",
      "2023-01-13 11:10:00\n",
      "2023-01-13 12:10:00\n",
      "2023-01-13 13:10:00\n",
      "2023-01-13 14:10:00\n",
      "2023-01-13 15:10:00\n",
      "2023-01-13 16:10:00\n",
      "2023-01-13 17:10:00\n",
      "2023-01-13 18:10:00\n",
      "2023-01-13 19:10:00\n",
      "2023-01-13 20:10:00\n",
      "2023-01-13 21:10:00\n",
      "2023-01-13 22:10:00\n",
      "2023-01-13 23:10:00\n",
      "2023-01-14 00:10:00\n",
      "2023-01-14 01:10:00\n",
      "2023-01-14 02:10:00\n",
      "2023-01-14 03:10:00\n",
      "2023-01-14 04:10:00\n",
      "2023-01-14 05:10:00\n",
      "2023-01-14 06:10:00\n",
      "2023-01-14 07:10:00\n",
      "2023-01-14 08:10:00\n",
      "2023-01-14 09:10:00\n"
     ]
    }
   ],
   "source": [
    "current_time = start_time\n",
    "log_path = \"/Users/christianseifert/forta/logs/\"\n",
    "logs = {} # key is scanner node. Logs is a string array\n",
    "count = 0\n",
    "while current_time < end_time:\n",
    "    count+=1\n",
    "    if count%60 == 0:\n",
    "        print(current_time)\n",
    "    directory = int(10000000000 - current_time.timestamp())\n",
    "    if os.path.exists(log_path+str(directory)+\"/\"):\n",
    "        for file in os.listdir(log_path+str(directory)+\"/\"):\n",
    "            file_path = log_path+str(directory)+\"/\"+file\n",
    "            content = !gzip -dc {file_path}\n",
    "            \n",
    "            if file in logs.keys():\n",
    "                logs[file] = logs[file] + content\n",
    "            else:\n",
    "                logs[file] = content\n",
    "    else:\n",
    "        print(f\"directory does not exist for {current_time}\")\n",
    "\n",
    "    current_time = current_time + timedelta(minutes=1)"
   ]
  },
  {
   "cell_type": "code",
   "execution_count": 81,
   "metadata": {},
   "outputs": [],
   "source": [
    "# persist logs to one file\n",
    "for scan_node in logs.keys():\n",
    "    content = logs[scan_node]\n",
    "    # write content to file\n",
    "    with open(f\"{log_path}/{scan_node}.log\", \"w\") as f:\n",
    "        for line in content:\n",
    "            f.write(line + '\\r\\n')"
   ]
  },
  {
   "cell_type": "code",
   "execution_count": null,
   "metadata": {},
   "outputs": [],
   "source": [
    "time = start_time\n",
    "\n"
   ]
  }
 ],
 "metadata": {
  "kernelspec": {
   "display_name": "forta",
   "language": "python",
   "name": "python3"
  },
  "language_info": {
   "codemirror_mode": {
    "name": "ipython",
    "version": 3
   },
   "file_extension": ".py",
   "mimetype": "text/x-python",
   "name": "python",
   "nbconvert_exporter": "python",
   "pygments_lexer": "ipython3",
   "version": "3.8.13"
  },
  "orig_nbformat": 4,
  "vscode": {
   "interpreter": {
    "hash": "31f6e1811d5b736dff4620794320d6dcce7f07a0a9add80071f131104eb0b480"
   }
  }
 },
 "nbformat": 4,
 "nbformat_minor": 2
}
