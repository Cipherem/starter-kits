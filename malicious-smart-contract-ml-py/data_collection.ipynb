{
 "cells": [
  {
   "cell_type": "markdown",
   "id": "ba979f32-67fc-4dc5-a71b-be84043a87b9",
   "metadata": {},
   "source": [
    "# Malicious Smart Contract Detection Training Dataset Collection Notebook\n",
    "\n",
    "This notebook collects smart contract creation bytecode and decompiled opcodes for malicious contract classification. \n",
    "Benign contracts are gathered from Luabase and malicious contracts from [Forta Network's labelled datasets github repo](\"https://github.com/forta-network/labelled-datasets\"). "
   ]
  },
  {
   "cell_type": "code",
   "execution_count": 1,
   "id": "599dd826-f2b4-416c-b256-8eef021287a9",
   "metadata": {},
   "outputs": [],
   "source": [
    "import logging\n",
    "from os import environ\n",
    "\n",
    "from evmdasm import EvmBytecode\n",
    "import pandas as pd\n",
    "from tqdm import tqdm\n",
    "import requests\n",
    "from web3 import Web3\n",
    "\n",
    "tqdm.pandas()\n",
    "# disable warning logs from evmdasm tool\n",
    "logging.getLogger(\"evmdasm\").setLevel(logging.CRITICAL)"
   ]
  },
  {
   "cell_type": "code",
   "execution_count": 7,
   "id": "817219c5-9fde-44ed-8951-24b0836a6ed9",
   "metadata": {},
   "outputs": [],
   "source": [
    "LUABASE_API_KEY = environ['LUABASE_API_KEY']\n",
    "LUABASE_QUERY_URL = \"https://q.luabase.com/run\"\n",
    "\n",
    "def get_luabase_data(sql: str, limit: int = 1_000_000) -> pd.DataFrame:\n",
    "    payload = {\n",
    "        \"block\": {\n",
    "            \"details\": {\n",
    "                \"sql\": sql,\n",
    "                \"limit\": limit,\n",
    "                \"parameters\": {}\n",
    "            }\n",
    "        },\n",
    "        \"api_key\": LUABASE_API_KEY,\n",
    "    }\n",
    "    headers = {\"content-type\": \"application/json\"}\n",
    "    response = requests.request(\"POST\", LUABASE_QUERY_URL, json=payload, headers=headers)\n",
    "    data = response.json()\n",
    "    return pd.DataFrame(data['data'])"
   ]
  },
  {
   "cell_type": "code",
   "execution_count": 2,
   "id": "a0c270ac-3bfb-4216-b64c-711a1add3730",
   "metadata": {},
   "outputs": [],
   "source": [
    "w3_eth = Web3(Web3.HTTPProvider(environ[\"ALCHEMY_TRACE_API\"]))\n",
    "TRACES = {}\n",
    "\n",
    "def get_created_contracts(tx_hash):\n",
    "    if TRACES.get(tx_hash, 'error') != 'error':\n",
    "        return TRACES[tx_hash]\n",
    "    try:\n",
    "        trace = w3_eth.parity.trace_transaction(tx_hash)\n",
    "        result = [t for t in trace if t['type'].startswith('create')]\n",
    "        TRACES[tx_hash] = result\n",
    "        return result\n",
    "    except:\n",
    "        TRACES[tx_hash] = 'error'\n",
    "        return []    "
   ]
  },
  {
   "cell_type": "code",
   "execution_count": 18,
   "id": "73efe3ca-4665-4b2d-aff3-3a4ce62b1e62",
   "metadata": {},
   "outputs": [],
   "source": [
    "def get_creation_bytecode(row) -> str:\n",
    "    \"\"\"Get contract creation bytecode from EVM trace.\"\"\"\n",
    "    tx_hash = row['contract_creation_tx']\n",
    "    contracts = get_created_contracts(tx_hash)\n",
    "    \n",
    "    if len(contracts) == 0:\n",
    "        return\n",
    "\n",
    "    for c in contracts:\n",
    "        if c['result'] is not None and c['result'].get('address') == contract_addr:\n",
    "            return c['action'].get('init')\n",
    "\n",
    "def get_opcodes(row) -> str:\n",
    "    bytecode = row['creation_bytecode']\n",
    "    if bytecode is None:\n",
    "        return ''\n",
    "\n",
    "    try:\n",
    "        opcodes = EvmBytecode(bytecode).disassemble()\n",
    "    except Exception:\n",
    "        return ''\n",
    "    \n",
    "    return \" \".join([str(op).strip() for op in opcodes])"
   ]
  },
  {
   "cell_type": "code",
   "execution_count": 4,
   "id": "68da4aaa-3f99-4c66-a13f-2455365326e6",
   "metadata": {},
   "outputs": [],
   "source": [
    "def get_malicious_contracts() -> pd.DataFrame:\n",
    "    \"\"\"Collects malicious contracts from Forta's labelled dataset github repo and its decompiled opcodes.\"\"\"\n",
    "    # csv from https://github.com/forta-network/labelled-datasets\n",
    "    github_url = 'https://raw.githubusercontent.com/forta-network/labelled-datasets/main/labels/1/malicious_smart_contracts.csv'\n",
    "    malicious = pd.read_csv(github_url)\n",
    "    # exclude phishing hack related contracts\n",
    "    malicious = malicious[malicious['contract_creator_etherscan_label'] != 'phish-hack']\n",
    "    malicious['creation_bytecode'] = malicious.progress_apply(get_creation_bytecode, axis=1)\n",
    "    malicious['decompiled_opcodes'] = malicious['creation_bytecode'].progress_apply(get_opcodes)\n",
    "    return malicious"
   ]
  },
  {
   "cell_type": "code",
   "execution_count": 16,
   "id": "4a818966-d8e9-4ae9-8592-a93cd6031411",
   "metadata": {},
   "outputs": [],
   "source": [
    "CONTRACT_DATA = {}\n",
    "\n",
    "def get_contract_transactions(contracts):\n",
    "    \"\"\"Get contract transaction info from Etherscan.\"\"\"\n",
    "    \n",
    "    # Etherscan API can take up to 5 contract addresses at a time.\n",
    "    for i in range(0, len(contracts), 5):\n",
    "        url = f\"https://api.etherscan.io/api?module=contract&action=getcontractcreation&contractaddresses={','.join(contracts[i:i+5])}&apikey={environ['ETHERSCAN_API_KEY']}\"\n",
    "        resp = requests.get(url)\n",
    "        data = resp.json()['result']\n",
    "        for r in data:\n",
    "            contract = r['contractAddress']\n",
    "            CONTRACT_DATA[contract.lower()] = r"
   ]
  },
  {
   "cell_type": "code",
   "execution_count": 46,
   "id": "41b00f6a-e17f-420d-9d69-f98d4a68757d",
   "metadata": {},
   "outputs": [],
   "source": [
    "def get_contract_data(row):\n",
    "    address = row['contract_address'].lower()\n",
    "    data = CONTRACT_DATA.get(address)\n",
    "    if data:\n",
    "        return data.get('contractCreator'), data.get('txHash')\n",
    "    \n",
    "    return None, None"
   ]
  },
  {
   "cell_type": "code",
   "execution_count": 3,
   "id": "a7cccb91-ceb9-4e98-bddf-3b59e3b6aca7",
   "metadata": {},
   "outputs": [],
   "source": [
    "verified_contracts_sql = '''\n",
    "SELECT abis.address as contract_address, \n",
    "       abis.name as contract_name,\n",
    "       tags.label as contract_etherscan_label, \n",
    "       tags.tag as contract_tag\n",
    "FROM ethereum.abis abis LEFT JOIN ethereum.tags tags ON tags.address = abis.address\n",
    "'''\n",
    "\n",
    "mev_contracts_sql = '''\n",
    "SELECT tags.address as contract_address, \n",
    "       tags.label as contract_etherscan_label, \n",
    "       tags.tag as contract_tag \n",
    "FROM ethereum.tags tags WHERE tags.label = 'mev-bot'\n",
    "'''\n",
    "\n",
    "def get_benign_contracts() -> pd.DataFrame:\n",
    "    \"\"\"Collects verified and mev contracts from Luabase and its decompiled opcodes.\"\"\"\n",
    "    \n",
    "    verified_contracts = get_luabase_data(verified_contracts_sql)\n",
    "    mev_contracts = get_luabase_data(mev_contracts_sql)\n",
    "    benign = pd.concat([verified_contracts, mev_contracts])\n",
    "    \n",
    "    get_contract_transactions(list(benign['contract_address']))\n",
    "    \n",
    "    benign[['contract_creator', 'contract_creation_tx']] = benign.apply(get_contract_data, axis=1, result_type='expand')\n",
    "    benign['creation_bytecode'] = benign.progress_apply(get_creation_bytecode, axis=1)\n",
    "    benign['decompiled_opcodes'] = benign['creation_bytecode'].progress_apply(get_opcodes, axis=1)\n",
    "    return benign"
   ]
  },
  {
   "cell_type": "code",
   "execution_count": 10,
   "id": "4989a28b-5a48-4679-a758-05e2dc311980",
   "metadata": {},
   "outputs": [
    {
     "name": "stderr",
     "output_type": "stream",
     "text": [
      "100%|███████████████████████████████████████████████████████████████████████████████████████████████████████████████████████████████████████████████████████████████████████████████████████████████████████████████████████████████████████| 160/160 [00:12<00:00, 12.41it/s]\n",
      "100%|███████████████████████████████████████████████████████████████████████████████████████████████████████████████████████████████████████████████████████████████████████████████████████████████████████████████████████████████████████| 160/160 [00:08<00:00, 19.32it/s]\n"
     ]
    }
   ],
   "source": [
    "malicious_contracts = get_malicious_contracts()\n",
    "malicious_contracts['malicious'] = True"
   ]
  },
  {
   "cell_type": "code",
   "execution_count": 64,
   "id": "b49b5e20-6ba6-43c3-bc01-7f68222e4e44",
   "metadata": {
    "tags": []
   },
   "outputs": [
    {
     "name": "stderr",
     "output_type": "stream",
     "text": [
      "100%|███████████████████████████████████████████████████████████████████████████████████████████████████████████████████████████████████████████████████████████████████████████████████████████████████████████████████████████████| 140533/140533 [3:29:14<00:00, 11.19it/s]\n",
      "100%|███████████████████████████████████████████████████████████████████████████████████████████████████████████████████████████████████████████████████████████████████████████████████████████████████████████████████████████████| 140533/140533 [5:17:13<00:00,  7.38it/s]\n"
     ]
    }
   ],
   "source": [
    "benign_contracts = get_benign_contracts()\n",
    "benign_contracts['malicious'] = False"
   ]
  },
  {
   "cell_type": "code",
   "execution_count": 51,
   "id": "2e5af9c0-f1cb-4f9b-980c-f283ee5955a7",
   "metadata": {},
   "outputs": [],
   "source": [
    "dataset = pd.concat([malicious_contracts, benign_contracts])"
   ]
  },
  {
   "cell_type": "code",
   "execution_count": 55,
   "id": "ae55d525-60f5-4950-a618-52f207e92bcb",
   "metadata": {},
   "outputs": [],
   "source": [
    "dataset = dataset[(dataset['decompiled_opcodes'].notna()) & (dataset['decompiled_opcodes'] != '')]\n",
    "dataset.drop_duplicates('contract_address', inplace=True)"
   ]
  },
  {
   "cell_type": "code",
   "execution_count": 56,
   "id": "b8543d1a-7357-4d6d-b04f-545fcaad1077",
   "metadata": {},
   "outputs": [
    {
     "data": {
      "text/plain": [
       "False    139451\n",
       "True        149\n",
       "Name: malicious, dtype: int64"
      ]
     },
     "execution_count": 56,
     "metadata": {},
     "output_type": "execute_result"
    }
   ],
   "source": [
    "dataset['malicious'].value_counts()"
   ]
  },
  {
   "cell_type": "code",
   "execution_count": 57,
   "id": "c0e1aa2c-2ac2-44ff-9555-db44d2b89212",
   "metadata": {},
   "outputs": [],
   "source": [
    "dataset.to_parquet('malicious_contract_training_dataset_latest.parquet', index=None)"
   ]
  },
  {
   "cell_type": "code",
   "execution_count": 58,
   "id": "95e97dd0-067d-4c5b-af24-962e3557f764",
   "metadata": {},
   "outputs": [
    {
     "data": {
      "text/plain": [
       "<AxesSubplot:ylabel='malicious'>"
      ]
     },
     "execution_count": 58,
     "metadata": {},
     "output_type": "execute_result"
    },
    {
     "data": {
      "image/png": "[encoded data removed]",
      "text/plain": [
       "<Figure size 504x504 with 1 Axes>"
      ]
     },
     "metadata": {},
     "output_type": "display_data"
    }
   ],
   "source": [
    "dataset['malicious'].value_counts().plot(kind='pie', figsize=(7, 7))"
   ]
  }
 ],
 "metadata": {
  "kernelspec": {
   "display_name": "Python 3 (ipykernel)",
   "language": "python",
   "name": "python3"
  },
  "language_info": {
   "codemirror_mode": {
    "name": "ipython",
    "version": 3
   },
   "file_extension": ".py",
   "mimetype": "text/x-python",
   "name": "python",
   "nbconvert_exporter": "python",
   "pygments_lexer": "ipython3",
   "version": "3.8.12"
  }
 },
 "nbformat": 4,
 "nbformat_minor": 5
}
